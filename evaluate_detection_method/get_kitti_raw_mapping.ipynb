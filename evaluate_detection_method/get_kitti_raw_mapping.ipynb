{
 "cells": [
  {
   "cell_type": "markdown",
   "metadata": {},
   "source": [
    "### Create KITTI to raw mapping and needed raw files (runtime: instant) (\"kitti_mapping.json\", \"kitti_needed_raw_files.txt\")"
   ]
  },
  {
   "cell_type": "code",
   "execution_count": 1,
   "metadata": {},
   "outputs": [],
   "source": [
    "import json\n",
    "import os"
   ]
  },
  {
   "cell_type": "markdown",
   "metadata": {},
   "source": [
    "#### Set paths\n",
    "<div class=\"alert alert-block alert-warning\">\n",
    "<h4>ToDo:</h4>\n",
    "<ol>\n",
    "    <li> Set \"dataset_root\" to the root of your <b>dataset directory</b>\n",
    "    <li> Set \"coda_root\" to the root of your new <b>CODA directory</b>\n",
    "</ol>\n",
    "</div>"
   ]
  },
  {
   "cell_type": "code",
   "execution_count": 2,
   "metadata": {},
   "outputs": [],
   "source": [
    "datasets_root = f'/disk/ml/datasets/'\n",
    "coda_root = f'/disk/ml/own_datasets/CODA/'"
   ]
  },
  {
   "cell_type": "code",
   "execution_count": 3,
   "metadata": {},
   "outputs": [],
   "source": [
    "json_kitti_indices = os.path.join(coda_root, 'kitti_indices.json')\n",
    "\n",
    "kitti_mapping_root = os.path.join(datasets_root, 'KITTI/object/devkit/mapping')\n",
    "train_mapping_file = os.path.join(kitti_mapping_root, 'train_mapping.txt')\n",
    "train_rand_file = os.path.join(kitti_mapping_root, 'train_rand.txt')\n",
    "\n",
    "json_kitti_mapping = os.path.join(coda_root, 'kitti_mapping.json')\n",
    "txt_kitti_needed_raw_files = os.path.join(coda_root, 'kitti_needed_raw_files.txt')"
   ]
  },
  {
   "cell_type": "code",
   "execution_count": 4,
   "metadata": {},
   "outputs": [],
   "source": [
    "with open(json_kitti_indices, 'r') as f:\n",
    "    kitti_indices = json.load(f)\n",
    "    \n",
    "with open(json_kitti_indices, 'r') as f:\n",
    "    kitti_mapping = json.load(f)\n",
    "    \n",
    "with open(train_mapping_file, 'r') as f:\n",
    "    train_mapping = f.readlines()\n",
    "    \n",
    "with open(train_rand_file, 'r') as f:\n",
    "    train_rand = f.readline().split(',')"
   ]
  },
  {
   "cell_type": "markdown",
   "metadata": {},
   "source": [
    "#### Create the mapping and needed_raw files"
   ]
  },
  {
   "cell_type": "code",
   "execution_count": 5,
   "metadata": {},
   "outputs": [],
   "source": [
    "needed_raw_files = []\n",
    "\n",
    "for image in kitti_indices:\n",
    "    image_number = int(kitti_indices[image])\n",
    "    image_rand = int(train_rand[image_number])\n",
    "    image_mapping = train_mapping[image_rand - 1]\n",
    "    kitti_mapping[image] = image_mapping\n",
    "    if (image_mapping.split(' ')[0] + ' ' + image_mapping.split(' ')[1]) not in needed_raw_files:\n",
    "        needed_raw_files.append(image_mapping.split(' ')[0] + ' ' + image_mapping.split(' ')[1])\n",
    "    \n",
    "with open(json_kitti_mapping, 'w') as f:\n",
    "    json.dump(kitti_mapping, f)\n",
    "    \n",
    "with open(txt_kitti_needed_raw_files, 'w') as f:\n",
    "    for file_name in needed_raw_files:\n",
    "        f.write('%s\\n' % file_name)"
   ]
  }
 ],
 "metadata": {
  "kernelspec": {
   "display_name": "Python 3",
   "language": "python",
   "name": "python3"
  },
  "language_info": {
   "codemirror_mode": {
    "name": "ipython",
    "version": 3
   },
   "file_extension": ".py",
   "mimetype": "text/x-python",
   "name": "python",
   "nbconvert_exporter": "python",
   "pygments_lexer": "ipython3",
   "version": "3.8.10"
  },
  "orig_nbformat": 4
 },
 "nbformat": 4,
 "nbformat_minor": 2
}
