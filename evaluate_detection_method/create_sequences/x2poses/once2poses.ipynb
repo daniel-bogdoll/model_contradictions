{
 "cells": [
  {
   "cell_type": "markdown",
   "metadata": {},
   "source": [
    "### ONCE to poses (runtime: ~ 3min)"
   ]
  },
  {
   "cell_type": "code",
   "execution_count": 1,
   "metadata": {},
   "outputs": [],
   "source": [
    "import json\n",
    "import math\n",
    "import os\n",
    "import numpy as np\n",
    "from tqdm import tqdm\n",
    "from typing import List, Tuple, Dict"
   ]
  },
  {
   "cell_type": "markdown",
   "metadata": {},
   "source": [
    "#### Set paths\n",
    "<div class=\"alert alert-block alert-warning\">\n",
    "<b>ToDo:</b> \n",
    "<ol>\n",
    "    <li> Set \"datasets_root\" to the root of your <b>dataset directory</b>\n",
    "    <li> Set \"vanishing_data_root\" to your <b>working directory</b>\n",
    "    <li> Select if <b>oxts</b> should be saved (runtime: ~ 30h)\n",
    "</ol>\n",
    "</div>"
   ]
  },
  {
   "cell_type": "code",
   "execution_count": 2,
   "metadata": {},
   "outputs": [],
   "source": [
    "datasets_root = '/disk/ml/datasets'\n",
    "vanishing_data_root = f'/disk/vanishing_data/ju878'\n",
    "\n",
    "save_oxts = False"
   ]
  },
  {
   "cell_type": "code",
   "execution_count": 3,
   "metadata": {},
   "outputs": [],
   "source": [
    "once_root = os.path.join(datasets_root, 'ONCE/data_root/data')\n",
    "\n",
    "prepared_poses = os.path.join(vanishing_data_root, 'prepared_poses')\n",
    "oxts_folder = os.path.join(prepared_poses, 'once/oxts')\n",
    "poses_folder = os.path.join(prepared_poses, 'once/poses')"
   ]
  },
  {
   "cell_type": "code",
   "execution_count": 4,
   "metadata": {},
   "outputs": [],
   "source": [
    "EARTH_RADIUS_METERS = 6.378137e6\n",
    "REFERENCE_COORDINATES = {\n",
    "    \"zero\": [0.000000000000, 0.000000000000]\n",
    "}"
   ]
  },
  {
   "cell_type": "code",
   "execution_count": 5,
   "metadata": {},
   "outputs": [],
   "source": [
    "if not os.path.exists(oxts_folder) and save_oxts:\n",
    "        os.makedirs(oxts_folder)\n",
    "if not os.path.exists(poses_folder):\n",
    "        os.makedirs(poses_folder)"
   ]
  },
  {
   "cell_type": "markdown",
   "metadata": {},
   "source": [
    "#### Functions to create oxts and poses"
   ]
  },
  {
   "cell_type": "markdown",
   "metadata": {},
   "source": [
    "Get poses"
   ]
  },
  {
   "cell_type": "code",
   "execution_count": 6,
   "metadata": {},
   "outputs": [],
   "source": [
    "def get_poses(frames) -> List[dict]:\n",
    "    pose_list = []\n",
    "    for index, frame in enumerate(frames):\n",
    "        pose_list.append(frame['pose'])\n",
    "    \n",
    "    return pose_list"
   ]
  },
  {
   "cell_type": "markdown",
   "metadata": {},
   "source": [
    "Get coordinates (not real coordinates, relative to (0, 0))"
   ]
  },
  {
   "cell_type": "code",
   "execution_count": 7,
   "metadata": {},
   "outputs": [],
   "source": [
    "def get_coordinate(ref_lat: float, ref_lon: float, bearing: float, dist: float) -> Tuple[float, float]:\n",
    "    lat, lon = math.radians(ref_lat), math.radians(ref_lon)\n",
    "    angular_distance = dist / EARTH_RADIUS_METERS\n",
    "    \n",
    "    target_lat = math.asin(\n",
    "        math.sin(lat) * math.cos(angular_distance) + \n",
    "        math.cos(lat) * math.sin(angular_distance) * math.cos(bearing)\n",
    "    )\n",
    "    target_lon = lon + math.atan2(\n",
    "        math.sin(bearing) * math.sin(angular_distance) * math.cos(lat),\n",
    "        math.cos(angular_distance) - math.sin(lat) * math.sin(target_lat)\n",
    "    )\n",
    "    return math.degrees(target_lat), math.degrees(target_lon)"
   ]
  },
  {
   "cell_type": "markdown",
   "metadata": {},
   "source": [
    "Get shortened oxts (only values needed for poses)"
   ]
  },
  {
   "cell_type": "code",
   "execution_count": 8,
   "metadata": {},
   "outputs": [],
   "source": [
    "def derive_latlon(location: str, poses: List[Dict[str, float]], scene_name, frames) -> List[Dict[str, float]]:\n",
    "    assert location in REFERENCE_COORDINATES.keys(), \\\n",
    "        f'Error: The given location: {location}, has no available reference.'\n",
    "        \n",
    "    oxts_scene_folder = os.path.join(oxts_folder, scene_name)\n",
    "    oxts = []\n",
    "    \n",
    "    if save_oxts:\n",
    "        if not os.path.exists(oxts_scene_folder):\n",
    "            os.makedirs(oxts_scene_folder)\n",
    "    \n",
    "    reference_lat, reference_lon = REFERENCE_COORDINATES[location]\n",
    "    for i, p in enumerate(poses):\n",
    "        x, y, z = p[4:]\n",
    "        if y == 0:\n",
    "            bearing = 0.0\n",
    "        else:\n",
    "            bearing = math.atan(x / y)\n",
    "        distance = math.sqrt(x**2 + y**2)\n",
    "        lat, lon = get_coordinate(reference_lat, reference_lon, bearing, distance)\n",
    "        \n",
    "        r1, r2, r3, w = p[:4]\n",
    "        roll = math.atan2(2 * (w * r1 + r2 * r3), 1 - 2 * (math.pow(r1, 2) + math.pow(r2, 2)))\n",
    "        pitch = math.asin(2 * (w * r2 - r3 * r1))\n",
    "        yaw = math.atan2(2 * (w * r3 + r1 * r2), 1 - 2 * (math.pow(r2, 2) + math.pow(r3, 2)))\n",
    "        \n",
    "        oxts.append([lat, lon, z, roll, pitch, yaw])\n",
    "        \n",
    "        if save_oxts:\n",
    "            with open(os.path.join(oxts_scene_folder, frames[i]['frame_id'] + '.txt'), 'w') as f:\n",
    "                f.write(f'{lat} {lon} {z} {roll} {pitch} {yaw}')\n",
    "    return oxts"
   ]
  },
  {
   "cell_type": "markdown",
   "metadata": {},
   "source": [
    "Helper functions"
   ]
  },
  {
   "cell_type": "code",
   "execution_count": 9,
   "metadata": {},
   "outputs": [],
   "source": [
    "def lat_lon_to_mercator(lat, lon, scale):\n",
    "    ER = 6378137\n",
    "    mx = scale * lon * math.pi * ER / 180\n",
    "    my = scale * ER * math.log(math.tan((90 + lat) * math.pi / 360))\n",
    "    return mx, my\n",
    "\n",
    "\n",
    "def lat_to_scale(lat):\n",
    "    return math.cos(lat * math.pi / 180.0)"
   ]
  },
  {
   "cell_type": "markdown",
   "metadata": {},
   "source": [
    "Translate oxts to poses"
   ]
  },
  {
   "cell_type": "code",
   "execution_count": 10,
   "metadata": {},
   "outputs": [],
   "source": [
    "def gps_imu_to_pose(gps_imu, scale):\n",
    "    t = np.zeros(3)\n",
    "    t[0], t[1] = lat_lon_to_mercator(gps_imu[0], gps_imu[1], scale)\n",
    "    t[2] = gps_imu[2]  # altitude\n",
    "    rx = gps_imu[3]  # roll\n",
    "    ry = gps_imu[4]  # pitch\n",
    "    rz = gps_imu[5]  # heading\n",
    "    Rx = np.array([[1, 0, 0], [0, math.cos(rx), -math.sin(rx)], [0, math.sin(rx), math.cos(rx)]])\n",
    "    Ry = np.array([[math.cos(ry), 0, math.sin(ry)], [0, 1, 0], [-math.sin(ry), 0, math.cos(ry)]])\n",
    "    Rz = np.array([[math.cos(rz), -math.sin(rz), 0], [math.sin(rz), math.cos(rz), 0], [0, 0, 1]])\n",
    "    R = Rz.dot(Ry).dot(Rx)\n",
    "    T = np.identity(4)\n",
    "    T[:3, :3] = R\n",
    "    T[:3, 3] = t\n",
    "    return T\n",
    "\n",
    "def oxts_to_pose(oxts_info):\n",
    "    # Compute scale from first lat value\n",
    "    scale = lat_to_scale(oxts_info[0][0])\n",
    "    Tr_0_inv = None\n",
    "    poses = np.zeros((len(oxts_info), 12))\n",
    "    for i, oxts in enumerate(oxts_info):\n",
    "        T = gps_imu_to_pose(oxts, scale)\n",
    "        # Normalize translation and rotation (start at 0/0/0)\n",
    "        if Tr_0_inv is None:\n",
    "            Tr_0_inv = np.linalg.inv(T)\n",
    "\n",
    "        pose = Tr_0_inv.dot(T)\n",
    "        poses[i] = pose[:3, :].reshape(12)\n",
    "    return poses"
   ]
  },
  {
   "cell_type": "markdown",
   "metadata": {},
   "source": [
    "#### Translate ONCE_poses to KITTI_poses"
   ]
  },
  {
   "cell_type": "code",
   "execution_count": null,
   "metadata": {},
   "outputs": [],
   "source": [
    "for scene in tqdm(range(0, 581)):\n",
    "    scene_name = '{:0>6}'.format(scene)\n",
    "    json_once_file = os.path.join(once_root, scene_name, scene_name + '.json')\n",
    "    with open(json_once_file, 'r') as f:\n",
    "        once_json = json.load(f)\n",
    "     \n",
    "    frames = once_json['frames']\n",
    "    \n",
    "    once_poses = get_poses(frames)  # For each pose, we will extract the corresponding coordinate.\n",
    "    # Compute and store coordinates.\n",
    "    oxts = derive_latlon('zero', once_poses, scene_name, frames)\n",
    "    \n",
    "    poses = oxts_to_pose(oxts)\n",
    "    np.savetxt(os.path.join(poses_folder, scene_name + '.txt'), poses)"
   ]
  }
 ],
 "metadata": {
  "kernelspec": {
   "display_name": "Python 3",
   "language": "python",
   "name": "python3"
  },
  "language_info": {
   "codemirror_mode": {
    "name": "ipython",
    "version": 3
   },
   "file_extension": ".py",
   "mimetype": "text/x-python",
   "name": "python",
   "nbconvert_exporter": "python",
   "pygments_lexer": "ipython3",
   "version": "3.8.10"
  },
  "orig_nbformat": 4
 },
 "nbformat": 4,
 "nbformat_minor": 2
}
