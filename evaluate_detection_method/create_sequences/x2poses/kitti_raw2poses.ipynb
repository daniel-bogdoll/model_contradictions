{
 "cells": [
  {
   "cell_type": "markdown",
   "metadata": {},
   "source": [
    "### KITTI_Raw to poses (runtime: ~ 1min)"
   ]
  },
  {
   "cell_type": "code",
   "execution_count": 6,
   "metadata": {},
   "outputs": [],
   "source": [
    "import numpy as np\n",
    "import argparse\n",
    "import math\n",
    "import os"
   ]
  },
  {
   "cell_type": "markdown",
   "metadata": {},
   "source": [
    "#### Set paths\n",
    "<div class=\"alert alert-block alert-warning\">\n",
    "<b>ToDo:</b> \n",
    "<ol>\n",
    "    <li> Set \"datasets_root\" to the root of your <b>dataset directory</b>\n",
    "    <li> Set \"vanishing_data_root\" to your <b>working directory</b>\n",
    "</ol>\n",
    "</div>"
   ]
  },
  {
   "cell_type": "code",
   "execution_count": 7,
   "metadata": {},
   "outputs": [],
   "source": [
    "datasets_root = '/disk/ml/datasets'\n",
    "vanishing_data_root = f'/disk/vanishing_data/ju878'"
   ]
  },
  {
   "cell_type": "code",
   "execution_count": 8,
   "metadata": {},
   "outputs": [],
   "source": [
    "kitti_raw_root = os.path.join(datasets_root, 'KITTI_Raw')\n",
    "\n",
    "prepared_poses = os.path.join(vanishing_data_root, 'prepared_poses')\n",
    "poses_folder = os.path.join(prepared_poses, 'kitti/poses')"
   ]
  },
  {
   "cell_type": "code",
   "execution_count": 9,
   "metadata": {},
   "outputs": [],
   "source": [
    "OXTS_LINE_LEN = 30"
   ]
  },
  {
   "cell_type": "code",
   "execution_count": 10,
   "metadata": {},
   "outputs": [],
   "source": [
    "if not os.path.exists(poses_folder):\n",
    "        os.makedirs(poses_folder)"
   ]
  },
  {
   "cell_type": "markdown",
   "metadata": {},
   "source": [
    "#### Functions to create poses"
   ]
  },
  {
   "cell_type": "markdown",
   "metadata": {},
   "source": [
    "Load timestamps"
   ]
  },
  {
   "cell_type": "code",
   "execution_count": 11,
   "metadata": {},
   "outputs": [],
   "source": [
    "def load_timestamps(ts_dir):\n",
    "    ts_file = os.path.join(ts_dir, 'timestamps.txt')\n",
    "    return np.loadtxt(ts_file, delimiter=\",\", converters={0: lambda v: np.int64(np.datetime64(v)) / 1e+9 })"
   ]
  },
  {
   "cell_type": "markdown",
   "metadata": {},
   "source": [
    "Load oxts"
   ]
  },
  {
   "cell_type": "code",
   "execution_count": 12,
   "metadata": {},
   "outputs": [],
   "source": [
    "def load_oxts_data(base_dir):\n",
    "    oxts_dir = os.path.join(base_dir, 'oxts')\n",
    "    ts = load_timestamps(oxts_dir)\n",
    "    ts_len = len(ts)\n",
    "    oxts_data = np.zeros((ts_len, OXTS_LINE_LEN))\n",
    "    for i in range(ts_len):\n",
    "        data_dir = os.path.join(oxts_dir, 'data')\n",
    "        t_filename = str(i).zfill(10) + \".txt\"\n",
    "        oxts_data[i] = np.loadtxt(os.path.join(data_dir, t_filename))\n",
    "    return oxts_data"
   ]
  },
  {
   "cell_type": "markdown",
   "metadata": {},
   "source": [
    "Helper functions"
   ]
  },
  {
   "cell_type": "code",
   "execution_count": 13,
   "metadata": {},
   "outputs": [],
   "source": [
    "def lat_lon_to_mercator(lat, lon, scale):\n",
    "    ER = 6378137\n",
    "    mx = scale * lon * math.pi * ER / 180\n",
    "    my = scale * ER * math.log(math.tan((90 + lat) * math.pi / 360))\n",
    "    return mx, my\n",
    "\n",
    "\n",
    "def lat_to_scale(lat):\n",
    "    return math.cos(lat * math.pi / 180.0)"
   ]
  },
  {
   "cell_type": "markdown",
   "metadata": {},
   "source": [
    "Translate oxts to poses"
   ]
  },
  {
   "cell_type": "code",
   "execution_count": 14,
   "metadata": {},
   "outputs": [],
   "source": [
    "def gps_imu_to_pose(gps_imu, scale):\n",
    "    t = np.zeros(3)\n",
    "    t[0], t[1] = lat_lon_to_mercator(gps_imu[0], gps_imu[1], scale)\n",
    "    t[2] = gps_imu[2]  # altitude\n",
    "    rx = gps_imu[3]  # roll\n",
    "    ry = gps_imu[4]  # pitch\n",
    "    rz = gps_imu[5]  # heading\n",
    "    Rx = np.array([[1, 0, 0], [0, math.cos(rx), -math.sin(rx)], [0, math.sin(rx), math.cos(rx)]])\n",
    "    Ry = np.array([[math.cos(ry), 0, math.sin(ry)], [0, 1, 0], [-math.sin(ry), 0, math.cos(ry)]])\n",
    "    Rz = np.array([[math.cos(rz), -math.sin(rz), 0], [math.sin(rz), math.cos(rz), 0], [0, 0, 1]])\n",
    "    R = Rz.dot(Ry).dot(Rx)\n",
    "    T = np.identity(4)\n",
    "    T[:3, :3] = R\n",
    "    T[:3, 3] = t\n",
    "    return T\n",
    "\n",
    "def oxts_to_pose(oxts_info):\n",
    "    # Compute scale from first lat value\n",
    "    scale = lat_to_scale(oxts_info[0, 0])\n",
    "    Tr_0_inv = None\n",
    "    poses = np.zeros((len(oxts_info), 12))\n",
    "    for i, line in enumerate(oxts_info):\n",
    "        T = gps_imu_to_pose(line, scale)\n",
    "        # Normalize translation and rotation (start at 0/0/0)\n",
    "        if Tr_0_inv is None:\n",
    "            Tr_0_inv = np.linalg.inv(T)\n",
    "\n",
    "        pose = Tr_0_inv.dot(T)\n",
    "        poses[i] = pose[:3, :].reshape(12)\n",
    "    return poses"
   ]
  },
  {
   "cell_type": "markdown",
   "metadata": {},
   "source": [
    "#### Translate KITTI_oxts to KITTI_poses"
   ]
  },
  {
   "cell_type": "code",
   "execution_count": 19,
   "metadata": {},
   "outputs": [],
   "source": [
    "dates = os.listdir(kitti_raw_root)\n",
    "for date in dates:\n",
    "    date_root = os.path.join(kitti_raw_root, date)\n",
    "    sequences = os.listdir(date_root)\n",
    "    for seq in sequences:\n",
    "        seq_root = os.path.join(date_root, seq)\n",
    "        if os.path.isdir(seq_root):\n",
    "            oxts_data = load_oxts_data(seq_root)\n",
    "            poses = oxts_to_pose(oxts_data)\n",
    "            poses_path = os.path.join(poses_folder, date, seq)\n",
    "            if not os.path.exists(poses_path):\n",
    "                os.makedirs(poses_path)\n",
    "            np.savetxt(os.path.join(poses_path, 'poses.txt'), poses)"
   ]
  }
 ],
 "metadata": {
  "kernelspec": {
   "display_name": "Python 3",
   "language": "python",
   "name": "python3"
  },
  "language_info": {
   "codemirror_mode": {
    "name": "ipython",
    "version": 3
   },
   "file_extension": ".py",
   "mimetype": "text/x-python",
   "name": "python",
   "nbconvert_exporter": "python",
   "pygments_lexer": "ipython3",
   "version": "3.8.10"
  },
  "orig_nbformat": 4
 },
 "nbformat": 4,
 "nbformat_minor": 2
}
