{
 "cells": [
  {
   "cell_type": "code",
   "execution_count": 1,
   "metadata": {},
   "outputs": [],
   "source": [
    "import json\n",
    "import shutil\n",
    "import os\n",
    "import re\n",
    "from nuscenes.nuscenes import NuScenes"
   ]
  },
  {
   "cell_type": "code",
   "execution_count": 2,
   "metadata": {},
   "outputs": [],
   "source": [
    "datasets_root = '/disk/ml/datasets/'\n",
    "dst_dir = '/disk/ml/own_datasets/CODA/'"
   ]
  },
  {
   "cell_type": "code",
   "execution_count": 3,
   "metadata": {},
   "outputs": [
    {
     "ename": "NameError",
     "evalue": "name 'shutil' is not defined",
     "output_type": "error",
     "traceback": [
      "\u001b[0;31m---------------------------------------------------------------------------\u001b[0m",
      "\u001b[0;31mNameError\u001b[0m                                 Traceback (most recent call last)",
      "\u001b[0;32m<ipython-input-3-bb9747091748>\u001b[0m in \u001b[0;36m<module>\u001b[0;34m\u001b[0m\n\u001b[0;32m----> 1\u001b[0;31m \u001b[0mshutil\u001b[0m\u001b[0;34m.\u001b[0m\u001b[0mcopy\u001b[0m\u001b[0;34m(\u001b[0m\u001b[0mdatasets_root\u001b[0m \u001b[0;34m+\u001b[0m \u001b[0;34m'CODA/base-val-1500/README.md'\u001b[0m\u001b[0;34m,\u001b[0m \u001b[0mdst_dir\u001b[0m\u001b[0;34m)\u001b[0m\u001b[0;34m\u001b[0m\u001b[0;34m\u001b[0m\u001b[0m\n\u001b[0m\u001b[1;32m      2\u001b[0m \u001b[0mshutil\u001b[0m\u001b[0;34m.\u001b[0m\u001b[0mcopy\u001b[0m\u001b[0;34m(\u001b[0m\u001b[0mdatasets_root\u001b[0m \u001b[0;34m+\u001b[0m \u001b[0;34m'CODA/base-val-1500/corner_case.json'\u001b[0m\u001b[0;34m,\u001b[0m \u001b[0mdst_dir\u001b[0m\u001b[0;34m)\u001b[0m\u001b[0;34m\u001b[0m\u001b[0;34m\u001b[0m\u001b[0m\n\u001b[1;32m      3\u001b[0m \u001b[0mshutil\u001b[0m\u001b[0;34m.\u001b[0m\u001b[0mcopy\u001b[0m\u001b[0;34m(\u001b[0m\u001b[0mdatasets_root\u001b[0m \u001b[0;34m+\u001b[0m \u001b[0;34m'CODA/base-val-1500/kitti_indices.json'\u001b[0m\u001b[0;34m,\u001b[0m \u001b[0mdst_dir\u001b[0m\u001b[0;34m)\u001b[0m\u001b[0;34m\u001b[0m\u001b[0;34m\u001b[0m\u001b[0m\n\u001b[1;32m      4\u001b[0m \u001b[0mshutil\u001b[0m\u001b[0;34m.\u001b[0m\u001b[0mcopy\u001b[0m\u001b[0;34m(\u001b[0m\u001b[0mdatasets_root\u001b[0m \u001b[0;34m+\u001b[0m \u001b[0;34m'CODA/base-val-1500/nuscenes_indices.json'\u001b[0m\u001b[0;34m,\u001b[0m \u001b[0mdst_dir\u001b[0m\u001b[0;34m)\u001b[0m\u001b[0;34m\u001b[0m\u001b[0;34m\u001b[0m\u001b[0m\n\u001b[1;32m      5\u001b[0m \u001b[0;34m\u001b[0m\u001b[0m\n",
      "\u001b[0;31mNameError\u001b[0m: name 'shutil' is not defined"
     ]
    }
   ],
   "source": [
    "shutil.copy(datasets_root + 'CODA/base-val-1500/README.md', dst_dir)\n",
    "shutil.copy(datasets_root + 'CODA/base-val-1500/corner_case.json', dst_dir)\n",
    "shutil.copy(datasets_root + 'CODA/base-val-1500/kitti_indices.json', dst_dir)\n",
    "shutil.copy(datasets_root + 'CODA/base-val-1500/nuscenes_indices.json', dst_dir)\n",
    "\n",
    "os.mkdir(dst_dir + 'image')\n",
    "os.mkdir(dst_dir + 'lidar')"
   ]
  },
  {
   "attachments": {},
   "cell_type": "markdown",
   "metadata": {},
   "source": [
    "Load Nuscenes"
   ]
  },
  {
   "cell_type": "code",
   "execution_count": 8,
   "metadata": {},
   "outputs": [
    {
     "name": "stdout",
     "output_type": "stream",
     "text": [
      "======\n",
      "Loading NuScenes tables for version v1.0-trainval...\n",
      "23 category,\n",
      "8 attribute,\n",
      "4 visibility,\n",
      "64386 instance,\n",
      "12 sensor,\n",
      "10200 calibrated_sensor,\n",
      "2631083 ego_pose,\n",
      "68 log,\n",
      "850 scene,\n",
      "34149 sample,\n",
      "2631083 sample_data,\n",
      "1166187 sample_annotation,\n",
      "4 map,\n",
      "Done loading in 57.913 seconds.\n",
      "======\n",
      "Reverse indexing ...\n",
      "Done reverse indexing in 5.9 seconds.\n",
      "======\n"
     ]
    }
   ],
   "source": [
    "nusc_trainval = NuScenes(version='v1.0-trainval', dataroot=datasets_root + 'nuScenes', verbose=True)"
   ]
  },
  {
   "attachments": {},
   "cell_type": "markdown",
   "metadata": {},
   "source": [
    "Get Nuscenes Tokens for the files"
   ]
  },
  {
   "cell_type": "code",
   "execution_count": 10,
   "metadata": {},
   "outputs": [],
   "source": [
    "json_cornercases = dst_dir + 'corner_case.json'\n",
    "json_tokens = dst_dir + 'nuscenes_indices.json'\n",
    "json_nuscenes = datasets_root + 'nuScenes/v1.0-trainval/sample_data.json'\n",
    "json_nuscenes_image = dst_dir + 'nuscenes_image.json'\n",
    "json_nuscenes_lidar = dst_dir + 'nuscenes_lidar.json'\n",
    "\n",
    "with open(json_cornercases, 'r') as f:\n",
    "    data_cornercases = json.load(f)\n",
    "\n",
    "with open(json_tokens, 'r') as f:\n",
    "    data_tokens = json.load(f)\n",
    "\n",
    "with open(json_tokens, 'r') as f:\n",
    "    nuscenes_image = json.load(f)\n",
    "    \n",
    "with open(json_tokens, 'r') as f:\n",
    "    nuscenes_lidar = json.load(f)\n",
    "    \n",
    "\n",
    "images = data_cornercases['images']\n",
    "\n",
    "sensor_nuscenes_image = 'CAM_FRONT'\n",
    "sensor_nuscenes_lidar = 'LIDAR_TOP'\n",
    "\n",
    "\n",
    "for image in images:\n",
    "    file_name = image['file_name']\n",
    "    \n",
    "    # Check if part of nuScenes  \n",
    "    if ('nuscenes_' in file_name):\n",
    "\n",
    "        # Get token ('nuscenes_033402.jpg': '1a41ba0751d5497ebd32df7c86950671')\n",
    "        token_nuscenes = data_tokens[file_name]\n",
    "\n",
    "        # Get nuScenes data\n",
    "        my_sample = nusc_trainval.get('sample', token_nuscenes)\n",
    "        cam_front_data = nusc_trainval.get('sample_data', my_sample['data'][sensor_nuscenes_image])\n",
    "        nuscenes_image[file_name] = cam_front_data['filename']\n",
    "        lidar_top_data = nusc_trainval.get('sample_data', my_sample['data'][sensor_nuscenes_lidar])\n",
    "        nuscenes_lidar[file_name] = lidar_top_data['filename']\n",
    "\n",
    "with open(json_nuscenes_image, 'w') as f:\n",
    "    json.dump(nuscenes_image, f)\n",
    "\n",
    "with open(json_nuscenes_lidar, 'w') as f:\n",
    "    json.dump(nuscenes_lidar, f)"
   ]
  },
  {
   "attachments": {},
   "cell_type": "markdown",
   "metadata": {},
   "source": [
    "Copy Kitti Image"
   ]
  },
  {
   "cell_type": "code",
   "execution_count": null,
   "metadata": {},
   "outputs": [],
   "source": [
    "json_file= dst_dir + 'kitti_indices.json'\n",
    "\n",
    "src_dir_kitti_image= datasets_root + 'KITTI/object/data/training/image_2/'\n",
    "dst_dir_kitti_image= dst_dir + 'image/'\n",
    "\n",
    "with open(json_file, 'r') as file:\n",
    "    obj = json.load(file)\n",
    "\n",
    "    for file_name in os.listdir(src_dir_kitti_image):\n",
    "        source = src_dir_kitti_image + file_name\n",
    "        \n",
    "        for file in obj:\n",
    "            if file.split('_')[1] == file_name:\n",
    "                print('found')\n",
    "                destination = dst_dir_kitti_image + file\n",
    "                \n",
    "                shutil.copy(source, destination)\n",
    "                print('copied', file)"
   ]
  },
  {
   "attachments": {},
   "cell_type": "markdown",
   "metadata": {},
   "source": [
    "Copy Kitti Lidar"
   ]
  },
  {
   "cell_type": "code",
   "execution_count": null,
   "metadata": {},
   "outputs": [],
   "source": [
    "json_file= dst_dir + 'kitti_indices.json'\n",
    "\n",
    "src_dir_kitti_lidar= datasets_root + 'KITTI/object/data/training/velodyne/'\n",
    "dst_dir_kitti_lidar= dst_dir + 'lidar/'\n",
    "\n",
    "with open(json_file, 'r') as file:\n",
    "    obj = json.load(file)\n",
    "\n",
    "    for file_name in os.listdir(src_dir_kitti_lidar):\n",
    "        source = src_dir_kitti_lidar + file_name\n",
    "        \n",
    "        for file in obj:\n",
    "            if file.split('_')[1].split('.')[0] == file_name.split('.')[0]:\n",
    "                print('found')\n",
    "                destination = dst_dir_kitti_lidar + 'kitti_' + file_name\n",
    "                \n",
    "                shutil.copy(source, destination)\n",
    "                print('copied', 'kitti_' + file_name)"
   ]
  },
  {
   "attachments": {},
   "cell_type": "markdown",
   "metadata": {},
   "source": [
    "Copy Nuscenes Image"
   ]
  },
  {
   "cell_type": "code",
   "execution_count": null,
   "metadata": {},
   "outputs": [],
   "source": [
    "json_file= dst_dir + 'nuscenes_image.json'\n",
    "\n",
    "src_dir_nuscenes_image= datasets_root + 'nuScenes/samples/CAM_FRONT/'\n",
    "dst_dir_nuscenes_image= dst_dir + 'image/'\n",
    "\n",
    "with open(json_file, 'r') as file:\n",
    "    obj = json.load(file)\n",
    "\n",
    "for file_name in os.listdir(src_dir_nuscenes_image):\n",
    "    source = src_dir_nuscenes_image + file_name\n",
    "\n",
    "    \n",
    "    for file in obj:\n",
    "        if obj[file].split('/')[2] == file_name:\n",
    "            print('found')\n",
    "            destination = dst_dir_nuscenes_image + file\n",
    "            \n",
    "            shutil.copy(source, destination)\n",
    "            print('copied', file)"
   ]
  },
  {
   "attachments": {},
   "cell_type": "markdown",
   "metadata": {},
   "source": [
    "Copy Nuscenes Lidar"
   ]
  },
  {
   "cell_type": "code",
   "execution_count": null,
   "metadata": {},
   "outputs": [],
   "source": [
    "json_file= dst_dir + 'nuscenes_lidar.json'\n",
    "\n",
    "src_dir_nuscenes_lidar= datasets_root + 'nuScenes/samples/LIDAR_TOP/'\n",
    "dst_dir_nuscenes_lidar= dst_dir + 'lidar/'\n",
    "\n",
    "with open(json_file, 'r') as file:\n",
    "    obj = json.load(file)\n",
    "\n",
    "for file_name in os.listdir(src_dir_nuscenes_lidar):\n",
    "    source = src_dir_nuscenes_lidar + file_name\n",
    "\n",
    "    \n",
    "    for file in obj:\n",
    "        if obj[file].split('/')[2] == file_name:\n",
    "            print('found')\n",
    "            destination = dst_dir_nuscenes_lidar + file.split('.')[0] + '.bin'\n",
    "            \n",
    "            shutil.copy(source, destination)\n",
    "            print('copied', file.split('.')[0] + '.bin')"
   ]
  },
  {
   "attachments": {},
   "cell_type": "markdown",
   "metadata": {},
   "source": [
    "Copy ONCE Image"
   ]
  },
  {
   "cell_type": "code",
   "execution_count": null,
   "metadata": {},
   "outputs": [],
   "source": [
    "json_cornercases = dst_dir + 'corner_case.json'\n",
    "src_dir_once_image= datasets_root + 'CODA/base-val-1500/images/'\n",
    "dst_dir_once_image= dst_dir + 'image/'\n",
    "\n",
    "with open(json_cornercases, 'r') as f:\n",
    "    data_cornercases = json.load(f)\n",
    "\n",
    "images = data_cornercases['images']\n",
    "\n",
    "for image in images:\n",
    "    file_name = image['file_name']\n",
    "    if re.search(r'[0-9]{6}_', file_name):\n",
    "        print('found')\n",
    "        shutil.copy(src_dir_once_image + file_name, dst_dir_once_image + file_name)\n",
    "        print('copied', file_name)"
   ]
  },
  {
   "attachments": {},
   "cell_type": "markdown",
   "metadata": {},
   "source": [
    "Copy ONCE Lidar"
   ]
  },
  {
   "cell_type": "code",
   "execution_count": null,
   "metadata": {},
   "outputs": [],
   "source": [
    "json_cornercases = dst_dir + 'corner_case.json'\n",
    "src_dir_once_lidar= datasets_root + 'ONCE/data_root/data/'\n",
    "dst_dir_once_lidar= dst_dir + 'lidar/'\n",
    "\n",
    "with open(json_cornercases, 'r') as f:\n",
    "    data_cornercases = json.load(f)\n",
    "\n",
    "images = data_cornercases['images']\n",
    "\n",
    "for image in images:\n",
    "    file_name = image['file_name'].split('.')[0] + '.bin'\n",
    "    if re.search(r'[0-9]{6}_', file_name):\n",
    "        print('found')\n",
    "        shutil.copy(src_dir_once_lidar + file_name.split('_')[0] + '/lidar_roof/' + file_name.split('_')[1], dst_dir_once_lidar + file_name)\n",
    "        print('copied', file_name)"
   ]
  }
 ],
 "metadata": {
  "kernelspec": {
   "display_name": "Python 3",
   "language": "python",
   "name": "python3"
  },
  "language_info": {
   "codemirror_mode": {
    "name": "ipython",
    "version": 3
   },
   "file_extension": ".py",
   "mimetype": "text/x-python",
   "name": "python",
   "nbconvert_exporter": "python",
   "pygments_lexer": "ipython3",
   "version": "3.8.10"
  },
  "orig_nbformat": 4,
  "vscode": {
   "interpreter": {
    "hash": "e7370f93d1d0cde622a1f8e1c04877d8463912d04d973331ad4851f04de6915a"
   }
  }
 },
 "nbformat": 4,
 "nbformat_minor": 2
}
