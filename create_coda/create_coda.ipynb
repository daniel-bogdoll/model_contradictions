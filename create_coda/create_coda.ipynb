{
 "cells": [
  {
   "cell_type": "markdown",
   "metadata": {},
   "source": [
    "### Create the CODA dataset (runtime: ~ 4-5min)"
   ]
  },
  {
   "cell_type": "markdown",
   "metadata": {},
   "source": [
    "You should have downloaded all datasets by now and aranged them like this in your \"dataset directory\":\n",
    "\n",
    "##### ONCE (~1300GB): https://once-for-auto-driving.github.io/download.html\n",
    "\n",
    "1. Download all unlabeled splits with \"annotations\", all \"lidar-data\", and \"camera data p3\n",
    "2. Arange them like:"
   ]
  },
  {
   "cell_type": "code",
   "execution_count": 25,
   "metadata": {},
   "outputs": [],
   "source": [
    "# datasets_root\n",
    "# |_ONCE\n",
    "#   |_data_root\n",
    "#     |_data\n",
    "#       |-000000\n",
    "#       | |-cam03\n",
    "#       | | |-frame_timestamp_1.jpg\n",
    "#       | | |-frame_timestamp_2.jgp\n",
    "#       | | |-...\n",
    "#       | | |_frame_timestamp_n.jpg\n",
    "#       | |\n",
    "#       | |-lidar_roof\n",
    "#       | | |-frame_timestamp_1.bin\n",
    "#       | | |-frame_timestamp_2.bin\n",
    "#       | | |-...\n",
    "#       | | |_frame_timestamp_n.bin\n",
    "#       | |\n",
    "#       | |_000000.json\n",
    "#       |\n",
    "#       |-000001\n",
    "#       |-000002\n",
    "#       |_..."
   ]
  },
  {
   "cell_type": "markdown",
   "metadata": {},
   "source": [
    "##### KITTI object (~41GB): https://www.cvlibs.net/datasets/kitti/eval_object.php?obj_benchmark=3d\n",
    "\n",
    "1. Download \"left color images\", \"velodyne point clouds\", \"camera calibration matrices\", and \"object development kit\"\n",
    "2. Arange them like:"
   ]
  },
  {
   "cell_type": "code",
   "execution_count": 26,
   "metadata": {},
   "outputs": [],
   "source": [
    "# datasets_root\n",
    "# |_KITTI\n",
    "#   |_object\n",
    "#     |-data\n",
    "#     | |_training\n",
    "#     |   |-calib\n",
    "#     |   | |-000000.txt\n",
    "#     |   | |-000001.txt\n",
    "#     |   | |-...\n",
    "#     |   | |_nnnnnn.txt\n",
    "#     |   |\n",
    "#     |   |-image_2\n",
    "#     |   | |-000000.png\n",
    "#     |   | |-000001.png\n",
    "#     |   | |-...\n",
    "#     |   | |_nnnnnn.png\n",
    "#     |   |\n",
    "#     |   |_velodyne\n",
    "#     |     |-000000.bin\n",
    "#     |     |-000001.bin\n",
    "#     |     |-...\n",
    "#     |     |_nnnnnn.bin\n",
    "#     |\n",
    "#     |_devkit\n",
    "#       |_mapping\n",
    "#         |-train_mapping.txt\n",
    "#         |_train_rand.txt   "
   ]
  },
  {
   "cell_type": "markdown",
   "metadata": {},
   "source": [
    "##### nuScenes (~293GB): https://www.nuscenes.org/nuscenes#download\n",
    "\n",
    "1. Download \"Trainval\" from \"Full dataset (v1.0)\", this includes all 10 parts and the metadata\n",
    "2. Arange them like:"
   ]
  },
  {
   "cell_type": "code",
   "execution_count": 27,
   "metadata": {},
   "outputs": [],
   "source": [
    "# datasets_root\n",
    "# |_nuScenes\n",
    "#   |_sweeps\n",
    "#   | |-CAM_FRONT\n",
    "#   | | |-n000-time_CAM_FRONT_timestamp.jpg\n",
    "#   | | |-n000-time_CAM_FRONT_timestamp.jpg\n",
    "#   | | |-...\n",
    "#   | | |_n000-time_CAM_FRONT_timestamp.jpg\n",
    "#   | | \n",
    "#   | |_LIDAR_TOP\n",
    "#   |   |-n000-time_CAM_FRONT_timestamp.pcd.bin\n",
    "#   |   |-n000-time_CAM_FRONT_timestamp.pcd.bin\n",
    "#   |   |-...\n",
    "#   |   |_n000-time_CAM_FRONT_timestamp.pcd.bin\n",
    "#   |\n",
    "#   |_v1.0-trainval\n",
    "#     |-attribute.json\n",
    "#     |-calibrated_sensor.json\n",
    "#     |-category.json\n",
    "#     |-ego_pose.json\n",
    "#     |-instance.json\n",
    "#     |-log.json\n",
    "#     |-map.json\n",
    "#     |-sample_annotation.json\n",
    "#     |-sample_data.json\n",
    "#     |-sample.json\n",
    "#     |-scene.json\n",
    "#     |-sensor.json\n",
    "#     |_visibility.json"
   ]
  },
  {
   "cell_type": "markdown",
   "metadata": {},
   "source": [
    "##### CODA (~1GB): https://coda-dataset.github.io/download.html (Google drive not working 01.08.2023)\n",
    "\n",
    "1. Download \"CODA base val set\"\n",
    "2. Arange like:"
   ]
  },
  {
   "cell_type": "code",
   "execution_count": 28,
   "metadata": {},
   "outputs": [],
   "source": [
    "# datasets_root\n",
    "# |_CODA\n",
    "#   |_base-val-1500\n",
    "#     |-images\n",
    "#     | |-frame_timestamp_1.jpg\n",
    "#     | |-frame_timestamp_2.jgp\n",
    "#     | |-...\n",
    "#     | |_frame_timestamp_n.jpg\n",
    "#     |\n",
    "#     |-corner_case.json\n",
    "#     |-kitti_indices.json\n",
    "#     |_nuscenes_sample_tokens.json"
   ]
  },
  {
   "cell_type": "code",
   "execution_count": 5,
   "metadata": {},
   "outputs": [],
   "source": [
    "import json\n",
    "import shutil\n",
    "import os\n",
    "import re\n",
    "from nuscenes.nuscenes import NuScenes"
   ]
  },
  {
   "cell_type": "markdown",
   "metadata": {},
   "source": [
    "#### Set paths\n",
    "<div class=\"alert alert-block alert-warning\">\n",
    "<h4>ToDo:</h4>\n",
    "<ol>\n",
    "    <li> Set \"dataset_root\" to the root of your <b>dataset directory</b>\n",
    "    <li> Set \"coda_root\" to the root of your new <b>CODA directory</b>\n",
    "</ol>\n",
    "</div>"
   ]
  },
  {
   "cell_type": "code",
   "execution_count": 6,
   "metadata": {},
   "outputs": [],
   "source": [
    "datasets_root = f'/disk/ml/datasets/'\n",
    "coda_root = f'/disk/ml/own_datasets/CODA/'"
   ]
  },
  {
   "cell_type": "code",
   "execution_count": 7,
   "metadata": {},
   "outputs": [],
   "source": [
    "image_folder = os.path.join(coda_root, 'image')\n",
    "lidar_folder = os.path.join(coda_root, 'lidar')\n",
    "\n",
    "coda_root_original = os.path.join(datasets_root, 'CODA/base-val-1500')\n",
    "nuscenes_root = os.path.join(datasets_root, 'nuScenes/samples')\n",
    "kitti_root = os.path.join(datasets_root, 'KITTI/object/data/training')\n",
    "once_root = os.path.join(datasets_root, 'ONCE/data_root/data')\n",
    "\n",
    "json_cornercases_original = os.path.join(coda_root_original, 'corner_case.json')\n",
    "json_kitti_indices_original = os.path.join(coda_root_original, 'kitti_indices.json')\n",
    "json_nuscenes_indices_original = os.path.join(coda_root_original, 'nuscenes_indices.json')\n",
    "\n",
    "json_cornercases = os.path.join(coda_root, 'corner_case.json')\n",
    "json_nuscenes_indices = os.path.join(coda_root, 'nuscenes_indices.json')\n",
    "json_nuscenes_image = os.path.join(coda_root, 'nuscenes_image.json')\n",
    "json_nuscenes_lidar = os.path.join(coda_root, 'nuscenes_lidar.json')\n",
    "json_kitti_indices = os.path.join(coda_root, 'kitti_indices.json')\n",
    "\n",
    "kitti_image_original = os.path.join(kitti_root, 'image_2')\n",
    "kitti_image = os.path.join(coda_root, 'image')\n",
    "kitti_lidar_original = os.path.join(kitti_root, 'velodyne')\n",
    "kitti_lidar = os.path.join(coda_root, 'lidar')\n",
    "\n",
    "nuscenes_image_original = os.path.join(nuscenes_root, 'CAM_FRONT')\n",
    "nuscenes_image = os.path.join(coda_root, 'image')\n",
    "nuscenes_lidar_original = os.path.join(nuscenes_root, 'LIDAR_TOP')\n",
    "nuscenes_lidar = os.path.join(coda_root, 'lidar')\n",
    "\n",
    "once_image_original = os.path.join(coda_root_original, 'images')\n",
    "once_image = os.path.join(coda_root, 'image')\n",
    "once_lidar_original = once_root\n",
    "once_lidar = os.path.join(coda_root, 'lidar')"
   ]
  },
  {
   "cell_type": "code",
   "execution_count": 8,
   "metadata": {},
   "outputs": [],
   "source": [
    "sensor_nuscenes_image = 'CAM_FRONT'\n",
    "sensor_nuscenes_lidar = 'LIDAR_TOP'"
   ]
  },
  {
   "cell_type": "markdown",
   "metadata": {},
   "source": [
    "Create and copy files into new CODA directory"
   ]
  },
  {
   "cell_type": "code",
   "execution_count": 29,
   "metadata": {},
   "outputs": [
    {
     "data": {
      "text/plain": [
       "'/disk/ml/own_datasets/CODA/nuscenes_indices.json'"
      ]
     },
     "execution_count": 29,
     "metadata": {},
     "output_type": "execute_result"
    }
   ],
   "source": [
    "if not os.path.exists(coda_root):\n",
    "    os.makedirs(coda_root)\n",
    "if not os.path.exists(image_folder):\n",
    "    os.makedirs(image_folder)\n",
    "if not os.path.exists(lidar_folder):\n",
    "    os.makedirs(lidar_folder)\n",
    "\n",
    "shutil.copy(json_cornercases_original, coda_root)\n",
    "shutil.copy(json_kitti_indices_original, coda_root)\n",
    "shutil.copy(json_nuscenes_indices_original, coda_root)"
   ]
  },
  {
   "cell_type": "markdown",
   "metadata": {},
   "source": [
    "Open all json files"
   ]
  },
  {
   "cell_type": "code",
   "execution_count": 10,
   "metadata": {},
   "outputs": [],
   "source": [
    "with open(json_cornercases, 'r') as f:\n",
    "    data_cornercases_json = json.load(f)\n",
    "\n",
    "with open(json_nuscenes_indices, 'r') as f:\n",
    "    nuscenes_indices_json = json.load(f)\n",
    "\n",
    "with open(json_nuscenes_indices, 'r') as f:\n",
    "    nuscenes_image_json = json.load(f)\n",
    "    \n",
    "with open(json_nuscenes_indices, 'r') as f:\n",
    "    nuscenes_lidar_json = json.load(f)\n",
    "    \n",
    "    \n",
    "with open(json_kitti_indices, 'r') as file:\n",
    "    kitti_indices_json = json.load(file)\n",
    "    \n",
    "\n",
    "images = data_cornercases_json['images']"
   ]
  },
  {
   "cell_type": "markdown",
   "metadata": {},
   "source": [
    "#### Load nuScenes and get image and lidar tokens"
   ]
  },
  {
   "cell_type": "markdown",
   "metadata": {},
   "source": [
    "Load nuScenes (~1min)"
   ]
  },
  {
   "cell_type": "code",
   "execution_count": 11,
   "metadata": {},
   "outputs": [
    {
     "name": "stdout",
     "output_type": "stream",
     "text": [
      "======\n",
      "Loading NuScenes tables for version v1.0-trainval...\n"
     ]
    },
    {
     "name": "stdout",
     "output_type": "stream",
     "text": [
      "23 category,\n",
      "8 attribute,\n",
      "4 visibility,\n",
      "64386 instance,\n",
      "12 sensor,\n",
      "10200 calibrated_sensor,\n",
      "2631083 ego_pose,\n",
      "68 log,\n",
      "850 scene,\n",
      "34149 sample,\n",
      "2631083 sample_data,\n",
      "1166187 sample_annotation,\n",
      "4 map,\n",
      "Done loading in 52.859 seconds.\n",
      "======\n",
      "Reverse indexing ...\n",
      "Done reverse indexing in 7.3 seconds.\n",
      "======\n"
     ]
    }
   ],
   "source": [
    "nusc_trainval = NuScenes(version='v1.0-trainval', dataroot=datasets_root + 'nuScenes', verbose=True)"
   ]
  },
  {
   "attachments": {},
   "cell_type": "markdown",
   "metadata": {},
   "source": [
    "Get nuScenes image and lidar tokens and save them in coda_root"
   ]
  },
  {
   "cell_type": "code",
   "execution_count": 12,
   "metadata": {},
   "outputs": [],
   "source": [
    "for image in images:\n",
    "    file_name = image['file_name']\n",
    "    \n",
    "    # Check if part of nuScenes  \n",
    "    if ('nuscenes_' in file_name):\n",
    "\n",
    "        # Get token ('nuscenes_033402.jpg': '1a41ba0751d5497ebd32df7c86950671')\n",
    "        token_nuscenes = nuscenes_indices_json[file_name]\n",
    "\n",
    "        # Get nuScenes data\n",
    "        my_sample = nusc_trainval.get('sample', token_nuscenes)\n",
    "        cam_front_data = nusc_trainval.get('sample_data', my_sample['data'][sensor_nuscenes_image])\n",
    "        nuscenes_image_json[file_name] = cam_front_data['filename']\n",
    "        lidar_top_data = nusc_trainval.get('sample_data', my_sample['data'][sensor_nuscenes_lidar])\n",
    "        nuscenes_lidar_json[file_name] = lidar_top_data['filename']\n",
    "\n",
    "with open(json_nuscenes_image, 'w') as f:\n",
    "    json.dump(nuscenes_image_json, f)\n",
    "\n",
    "with open(json_nuscenes_lidar, 'w') as f:\n",
    "    json.dump(nuscenes_lidar_json, f)"
   ]
  },
  {
   "cell_type": "markdown",
   "metadata": {},
   "source": [
    "#### Copy KITTI"
   ]
  },
  {
   "attachments": {},
   "cell_type": "markdown",
   "metadata": {},
   "source": [
    "Copy KITTI image"
   ]
  },
  {
   "cell_type": "code",
   "execution_count": 15,
   "metadata": {},
   "outputs": [],
   "source": [
    "for file_name in os.listdir(kitti_image_original):\n",
    "    source = os.path.join(kitti_image_original, file_name)\n",
    "    \n",
    "    for file in kitti_indices_json:\n",
    "        if file.split('_')[1] == file_name:\n",
    "            destination = os.path.join(kitti_image, file)\n",
    "            if not os.path.exists(destination):\n",
    "                shutil.copy(source, destination)"
   ]
  },
  {
   "cell_type": "markdown",
   "metadata": {},
   "source": [
    "Copy KITTI lidar"
   ]
  },
  {
   "cell_type": "code",
   "execution_count": 16,
   "metadata": {},
   "outputs": [],
   "source": [
    "for file_name in os.listdir(kitti_lidar_original):\n",
    "    source = os.path.join(kitti_lidar_original, file_name)\n",
    "    \n",
    "    for file in kitti_indices_json:\n",
    "        if file.split('_')[1].split('.')[0] == file_name.split('.')[0]:\n",
    "            destination = os.path.join(kitti_lidar,'kitti_' + file_name)\n",
    "            if not os.path.exists(destination):\n",
    "                shutil.copy(source, destination)"
   ]
  },
  {
   "cell_type": "markdown",
   "metadata": {},
   "source": [
    "#### Copy nuScenes"
   ]
  },
  {
   "attachments": {},
   "cell_type": "markdown",
   "metadata": {},
   "source": [
    "Copy nuScenes image"
   ]
  },
  {
   "cell_type": "code",
   "execution_count": 18,
   "metadata": {},
   "outputs": [],
   "source": [
    "with open(json_nuscenes_image, 'r') as file:\n",
    "    nuscenes_image_tokens_json = json.load(file)\n",
    "\n",
    "for file_name in os.listdir(nuscenes_image_original):\n",
    "    source = os.path.join(nuscenes_image_original, file_name)\n",
    "\n",
    "    for file in nuscenes_image_tokens_json:\n",
    "        if nuscenes_image_tokens_json[file].split('/')[2] == file_name:\n",
    "            destination = os.path.join(nuscenes_image, file)\n",
    "            if not os.path.exists(destination):\n",
    "                shutil.copy(source, destination)"
   ]
  },
  {
   "attachments": {},
   "cell_type": "markdown",
   "metadata": {},
   "source": [
    "Copy nuScenes lidar"
   ]
  },
  {
   "cell_type": "code",
   "execution_count": 20,
   "metadata": {},
   "outputs": [],
   "source": [
    "with open(json_nuscenes_lidar, 'r') as file:\n",
    "    nuscenes_lidar_tokens_json = json.load(file)\n",
    "\n",
    "for file_name in os.listdir(nuscenes_lidar_original):\n",
    "    source = os.path.join(nuscenes_lidar_original, file_name)\n",
    "\n",
    "    for file in nuscenes_lidar_tokens_json:\n",
    "        if nuscenes_lidar_tokens_json[file].split('/')[2] == file_name:\n",
    "            destination = os.path.join(nuscenes_lidar, file.split('.')[0] + '.bin')\n",
    "            if not os.path.exists(destination):\n",
    "                shutil.copy(source, destination)"
   ]
  },
  {
   "cell_type": "markdown",
   "metadata": {},
   "source": [
    "#### Copy ONCE"
   ]
  },
  {
   "attachments": {},
   "cell_type": "markdown",
   "metadata": {},
   "source": [
    "Copy ONCE image"
   ]
  },
  {
   "cell_type": "code",
   "execution_count": 23,
   "metadata": {},
   "outputs": [],
   "source": [
    "for image in images:\n",
    "    file_name = image['file_name']\n",
    "    if re.search(r'[0-9]{6}_', file_name):\n",
    "        source = os.path.join(once_image_original, file_name)\n",
    "        destination = os.path.join(once_image, file_name)\n",
    "        if not os.path.exists(destination):\n",
    "            shutil.copy(source, destination)"
   ]
  },
  {
   "attachments": {},
   "cell_type": "markdown",
   "metadata": {},
   "source": [
    "Copy ONCE lidar"
   ]
  },
  {
   "cell_type": "code",
   "execution_count": 22,
   "metadata": {},
   "outputs": [],
   "source": [
    "for image in images:\n",
    "    file_name = image['file_name'].split('.')[0] + '.bin'\n",
    "    if re.search(r'[0-9]{6}_', file_name):\n",
    "        source = os.path.join(once_lidar_original, file_name.split('_')[0] + '/lidar_roof/' + file_name.split('_')[1])\n",
    "        destination = os.path.join(once_lidar, file_name)\n",
    "        if not os.path.exists(destination):\n",
    "            shutil.copy(source, destination)"
   ]
  }
 ],
 "metadata": {
  "kernelspec": {
   "display_name": "Python 3",
   "language": "python",
   "name": "python3"
  },
  "language_info": {
   "codemirror_mode": {
    "name": "ipython",
    "version": 3
   },
   "file_extension": ".py",
   "mimetype": "text/x-python",
   "name": "python",
   "nbconvert_exporter": "python",
   "pygments_lexer": "ipython3",
   "version": "3.8.10"
  },
  "orig_nbformat": 4,
  "vscode": {
   "interpreter": {
    "hash": "e7370f93d1d0cde622a1f8e1c04877d8463912d04d973331ad4851f04de6915a"
   }
  }
 },
 "nbformat": 4,
 "nbformat_minor": 2
}
