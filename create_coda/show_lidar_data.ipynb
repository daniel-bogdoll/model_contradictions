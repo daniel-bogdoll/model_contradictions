{
 "cells": [
  {
   "cell_type": "code",
   "execution_count": 1,
   "metadata": {},
   "outputs": [
    {
     "name": "stdout",
     "output_type": "stream",
     "text": [
      "Jupyter environment detected. Enabling Open3D WebVisualizer.\n",
      "[Open3D INFO] WebRTC GUI backend enabled.\n",
      "[Open3D INFO] WebRTCWindowSystem: HTTP handshake server disabled.\n"
     ]
    }
   ],
   "source": [
    "import numpy as np\n",
    "import struct\n",
    "from open3d import *\n",
    "import matplotlib.cm as cm\n",
    "import matplotlib.colors as colors"
   ]
  },
  {
   "cell_type": "code",
   "execution_count": 31,
   "metadata": {},
   "outputs": [],
   "source": [
    "def convert_kitti_bin_to_pcd(binFilePath):\n",
    "    list_pcd = []\n",
    "    list_colors = [] \n",
    "    file = np.fromfile(binFilePath, dtype=np.float32).reshape((-1,4))\n",
    "    for f in file:\n",
    "        x = f[1]\n",
    "        y = -f[0]\n",
    "        z = f[2]\n",
    "        #c = f[4]\n",
    "        list_pcd.append([y, z, x])\n",
    "        #list_colors.append(c)\n",
    "    #cmap = cm.get_cmap('jet')\n",
    "    #norm = colors.Normalize(vmin=min(list_colors), vmax=max(list_colors))\n",
    "    #np_colors = [cmap(norm(color)) for color in list_colors]\n",
    "    np_pcd = np.asarray(list_pcd)\n",
    "    #np_color = np.asarray(np_colors)\n",
    "    pcd = open3d.geometry.PointCloud()\n",
    "    #pcd.colors = open3d.utility.Vector3dVector(np_color[:,:3])\n",
    "    pcd.points = open3d.utility.Vector3dVector(np_pcd)\n",
    "    return pcd\n",
    "\n"
   ]
  },
  {
   "cell_type": "code",
   "execution_count": 32,
   "metadata": {},
   "outputs": [
    {
     "name": "stdout",
     "output_type": "stream",
     "text": [
      "PointCloud with 67579 points.\n"
     ]
    }
   ],
   "source": [
    "# source\n",
    "bin_file = '/disk/vanishing_data/ju878/CODA_for_Finn_sequences/sequences/0001/velodyne/000001_1616005007200_12.bin'\n",
    "#bin_file = '/disk/vanishing_data/ju878/log_finn/anomalies_sup_self/0001/pc_velo_camerafov/000001_1616005007200_12.bin'\n",
    "\n",
    "# convert\n",
    "pcd = convert_kitti_bin_to_pcd(bin_file)\n",
    "# show\n",
    "print(pcd)\n",
    "#print(np.asarray(pcd.points))\n",
    "open3d.visualization.draw_geometries([pcd])"
   ]
  }
 ],
 "metadata": {
  "kernelspec": {
   "display_name": "Python 3",
   "language": "python",
   "name": "python3"
  },
  "language_info": {
   "codemirror_mode": {
    "name": "ipython",
    "version": 3
   },
   "file_extension": ".py",
   "mimetype": "text/x-python",
   "name": "python",
   "nbconvert_exporter": "python",
   "pygments_lexer": "ipython3",
   "version": "3.8.10"
  },
  "orig_nbformat": 4,
  "vscode": {
   "interpreter": {
    "hash": "767d51c1340bd893661ea55ea3124f6de3c7a262a8b4abca0554b478b1e2ff90"
   }
  }
 },
 "nbformat": 4,
 "nbformat_minor": 2
}
