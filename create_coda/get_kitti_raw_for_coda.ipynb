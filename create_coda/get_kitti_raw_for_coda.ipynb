{
 "cells": [
  {
   "cell_type": "code",
   "execution_count": 7,
   "metadata": {},
   "outputs": [],
   "source": [
    "import json\n",
    "\n",
    "datasets_root = '/disk/ml/datasets/'\n",
    "dst_dir = '/disk/ml/own_datasets/CODA/'"
   ]
  },
  {
   "cell_type": "code",
   "execution_count": 21,
   "metadata": {},
   "outputs": [],
   "source": [
    "json_file= dst_dir + 'kitti_indices.json'\n",
    "\n",
    "train_mapping_file = datasets_root + 'KITTI/object/devkit/mapping/train_mapping.txt'\n",
    "train_rand_file = datasets_root + 'KITTI/object/devkit/mapping/train_rand.txt'\n",
    "\n",
    "image_mapping_file = dst_dir + 'kitti_mapping.json'\n",
    "kitti_needed_raw_files = dst_dir + 'kitti_needed_raw_files.txt'\n",
    "\n",
    "with open(json_file, 'r') as f:\n",
    "    kitti_indices = json.load(f)\n",
    "    \n",
    "with open(json_file, 'r') as f:\n",
    "    kitti_mapping = json.load(f)\n",
    "    \n",
    "with open(train_mapping_file, 'r') as f:\n",
    "    train_mapping = f.readlines()\n",
    "    \n",
    "with open(train_rand_file, 'r') as f:\n",
    "    train_rand = f.readline().split(',')"
   ]
  },
  {
   "cell_type": "code",
   "execution_count": 32,
   "metadata": {},
   "outputs": [],
   "source": [
    "needed_raw_files = []\n",
    "\n",
    "for image in kitti_indices:\n",
    "    image_number = int(kitti_indices[image])\n",
    "    image_rand = int(train_rand[image_number])\n",
    "    image_mapping = train_mapping[image_rand - 1]\n",
    "    kitti_mapping[image] = image_mapping\n",
    "    if (image_mapping.split(' ')[0] + ' ' + image_mapping.split(' ')[1]) not in needed_raw_files:\n",
    "        needed_raw_files.append(image_mapping.split(' ')[0] + ' ' + image_mapping.split(' ')[1])\n",
    "    \n",
    "with open(image_mapping_file, 'w') as f:\n",
    "    json.dump(kitti_mapping, f)\n",
    "    \n",
    "with open(kitti_needed_raw_files, 'w') as f:\n",
    "    for file_name in needed_raw_files:\n",
    "        f.write('%s\\n' % file_name)\n",
    "    "
   ]
  }
 ],
 "metadata": {
  "kernelspec": {
   "display_name": "Python 3",
   "language": "python",
   "name": "python3"
  },
  "language_info": {
   "codemirror_mode": {
    "name": "ipython",
    "version": 3
   },
   "file_extension": ".py",
   "mimetype": "text/x-python",
   "name": "python",
   "nbconvert_exporter": "python",
   "pygments_lexer": "ipython3",
   "version": "3.8.10"
  },
  "orig_nbformat": 4
 },
 "nbformat": 4,
 "nbformat_minor": 2
}
