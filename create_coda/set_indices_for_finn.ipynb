{
 "cells": [
  {
   "cell_type": "code",
   "execution_count": 1,
   "metadata": {},
   "outputs": [],
   "source": [
    "import os\n",
    "import yaml\n",
    "import sys\n"
   ]
  },
  {
   "cell_type": "code",
   "execution_count": 2,
   "metadata": {},
   "outputs": [],
   "source": [
    "# 0: load all indices\n",
    "# 1: load once indices\n",
    "# 2: load kitti indices\n",
    "# 3: load nuscenes indices\n",
    "indice_id = 0"
   ]
  },
  {
   "cell_type": "code",
   "execution_count": 3,
   "metadata": {},
   "outputs": [],
   "source": [
    "model_root = f'/disk/no_backup/ju878/model_contradictions'\n",
    "indices_root = os.path.join(model_root, 'create_coda', 'indices')\n",
    "\n",
    "dataset_root = f'/disk/vanishing_data/ju878/CODA_for_Finn_sequences'\n",
    "sequences_root = os.path.join(dataset_root, 'sequences')\n",
    "preprocessed_root = os.path.join(dataset_root, 'preprocessed')\n",
    "poses_root = os.path.join(dataset_root, 'poses')\n",
    "inference_root = f'/disk/vanishing_data/ju878/log_finn/'\n",
    "\n",
    "split = 'valid'\n",
    "\n",
    "\n",
    "semantic_config_file = f'/disk/vanishing_data/ju878/pretrained_models/pretrained_SalsaNext_semantic/kitti_odometry_data_cfg.yaml'\n",
    "mos_datapreparing_file = f'/disk/no_backup/ju878/model_contradictions/supervised_unsupervised_anomaly/sup_mos/LiDAR-MOS/config/data_preparing.yaml'\n",
    "mos_config_file = f'/disk/vanishing_data/ju878/pretrained_models/pretrained_SalsaNext_mos/kitti_odometry_data_cfg_mos.yaml'\n",
    "combine_mos_config_file = f'/disk/no_backup/ju878/model_contradictions/supervised_unsupervised_anomaly/sup_mos/LiDAR-MOS/config/combine_mos_semantics.yaml'\n",
    "mos_post_processing_file = f'/disk/no_backup/ju878/model_contradictions/supervised_unsupervised_anomaly/sup_mos/LiDAR-MOS/config/post-processing.yaml'    \n",
    "flowstep_config_file = f'/disk/no_backup/ju878/model_contradictions/supervised_unsupervised_anomaly/self_scene_flow/flowstep3d/configs/test/flowstep3d_self_KITTI_odometry.yaml'\n",
    "odometry_config_file = f'/disk/no_backup/ju878/model_contradictions/supervised_unsupervised_anomaly/self_odometry/DeLORA/config/config_datasets.yaml'\n",
    "anomaly_detection_config_file = f'/disk/no_backup/ju878/model_contradictions/supervised_unsupervised_anomaly/anomaly_detection/config/config_paths.yaml'\n",
    "anomaly_detection_combine_file = f'/disk/no_backup/ju878/model_contradictions/supervised_unsupervised_anomaly/anomaly_detection/config/combine_mos_semantics.yaml'"
   ]
  },
  {
   "cell_type": "code",
   "execution_count": 4,
   "metadata": {},
   "outputs": [],
   "source": [
    "if indice_id == 0:\n",
    "    indices = yaml.safe_load(open(os.path.join(indices_root, 'indices_all.yaml'), 'r'))\n",
    "elif indice_id == 1:\n",
    "    indices = yaml.safe_load(open(os.path.join(indices_root, 'indices_once.yaml'), 'r'))\n",
    "elif indice_id == 2:\n",
    "    indices = yaml.safe_load(open(os.path.join(indices_root, 'indices_kitti.yaml'), 'r'))\n",
    "elif indice_id == 3:\n",
    "    indices = yaml.safe_load(open(os.path.join(indices_root, 'indices_nuscenes.yaml'), 'r'))\n",
    "else:\n",
    "    sys.exit('No valid indice_id! Must be in range 0-3!')"
   ]
  },
  {
   "cell_type": "code",
   "execution_count": 5,
   "metadata": {},
   "outputs": [],
   "source": [
    "# semantic_config_file\n",
    "config = yaml.safe_load(open(semantic_config_file, 'r'))\n",
    "config['split']['valid'] = indices['sequences']\n",
    "with open(semantic_config_file, 'w') as f:\n",
    "    f.write(yaml.dump(config))\n",
    "    \n",
    "#mos_datapreparing_file\n",
    "config = yaml.safe_load(open(mos_datapreparing_file, 'r'))\n",
    "config['sequences'] = indices['sequences']\n",
    "config['scan_folder'] = sequences_root\n",
    "with open(mos_datapreparing_file, 'w') as f:\n",
    "    f.write(yaml.dump(config))\n",
    "\n",
    "#mos_config_file\n",
    "config = yaml.safe_load(open(mos_config_file, 'r'))\n",
    "config['split']['valid'] = indices['sequences']\n",
    "with open(mos_config_file, 'w') as f:\n",
    "    f.write(yaml.dump(config))\n",
    "\n",
    "#combine_mos_config_file\n",
    "config = yaml.safe_load(open(combine_mos_config_file, 'r'))\n",
    "config['split']['valid'] = indices['sequences']\n",
    "with open(combine_mos_config_file, 'w') as f:\n",
    "    f.write(yaml.dump(config))\n",
    "\n",
    "#mos_post_processing_file\n",
    "config = yaml.safe_load(open(mos_datapreparing_file, 'r'))\n",
    "config['scan_root'] = sequences_root\n",
    "config['inference_root'] = inference_root\n",
    "config['split'] = split\n",
    "with open(mos_datapreparing_file, 'w') as f:\n",
    "    f.write(yaml.dump(config))\n",
    "\n",
    "#flowstep_config_file\n",
    "config = yaml.safe_load(open(flowstep_config_file, 'r'))\n",
    "config['exp_params']['data']['sequence'] = indices['sequences']\n",
    "config['exp_params']['data']['test_data_root'] = sequences_root\n",
    "config['exp_params']['data']['save_path'] = inference_root\n",
    "with open(flowstep_config_file, 'w') as f:\n",
    "    f.write(yaml.dump(config))\n",
    "\n",
    "#odometry_config_file\n",
    "config = yaml.safe_load(open(odometry_config_file, 'r'))\n",
    "config['kitti']['testing_identifiers'] = indices['sequences']\n",
    "config['kitti']['preprocessed_path'] = preprocessed_root\n",
    "config['kitti']['pose_data_path'] = poses_root\n",
    "config['kitti']['data_path'] = sequences_root\n",
    "with open(odometry_config_file, 'w') as f:\n",
    "    f.write(yaml.dump(config))\n",
    "\n",
    "#anomaly_detection_config_file\n",
    "config = yaml.safe_load(open(anomaly_detection_config_file, 'r'))\n",
    "config['sequences'] = indices['sequences']\n",
    "config['path_dataset'] = sequences_root\n",
    "config['path_inference'] = inference_root\n",
    "with open(anomaly_detection_config_file, 'w') as f:\n",
    "    f.write(yaml.dump(config))\n",
    "\n",
    "#anomaly_detection_combine_file\n",
    "config = yaml.safe_load(open(anomaly_detection_combine_file, 'r'))\n",
    "config['split']['valid'] = indices['sequences']\n",
    "with open(anomaly_detection_combine_file, 'w') as f:\n",
    "    f.write(yaml.dump(config))\n"
   ]
  }
 ],
 "metadata": {
  "kernelspec": {
   "display_name": "Python 3",
   "language": "python",
   "name": "python3"
  },
  "language_info": {
   "codemirror_mode": {
    "name": "ipython",
    "version": 3
   },
   "file_extension": ".py",
   "mimetype": "text/x-python",
   "name": "python",
   "nbconvert_exporter": "python",
   "pygments_lexer": "ipython3",
   "version": "3.8.10"
  },
  "orig_nbformat": 4
 },
 "nbformat": 4,
 "nbformat_minor": 2
}
