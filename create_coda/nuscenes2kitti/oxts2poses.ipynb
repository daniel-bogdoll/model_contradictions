{
 "cells": [
  {
   "cell_type": "code",
   "execution_count": 1,
   "metadata": {},
   "outputs": [],
   "source": [
    "import numpy as np\n",
    "import argparse\n",
    "import math\n",
    "import os\n",
    "import json\n",
    "from nuscenes.nuscenes import NuScenes\n",
    "\n",
    "base_dir = f'/disk/vanishing_data/ju878/nusc_kitti_test/train/oxts/'\n",
    "dataroot = f'/disk/ml/datasets/nuScenes/'\n",
    "TIMESTAMPS_FILENAME = \"timestamps.txt\"\n",
    "OXTS_LINE_LEN = 6\n",
    "\n",
    "json_tokens = f'/disk/ml/own_datasets/CODA/nuscenes_indices.json'\n",
    "\n",
    "with open(json_tokens, 'r') as f:\n",
    "    nuscenes_tokens = json.load(f)\n"
   ]
  },
  {
   "cell_type": "code",
   "execution_count": 2,
   "metadata": {},
   "outputs": [],
   "source": [
    "nusc = NuScenes(dataroot=dataroot, version='v1.0-trainval', verbose=False)"
   ]
  },
  {
   "cell_type": "code",
   "execution_count": 20,
   "metadata": {},
   "outputs": [],
   "source": [
    "def load_oxts_data(scene_token: str, base_dir):\n",
    "    \n",
    "    scene_rec = nusc.get('scene', scene_token)\n",
    "    sample_rec = nusc.get('sample', scene_rec['first_sample_token'])\n",
    "    sd_rec = nusc.get('sample_data', sample_rec['data']['LIDAR_TOP'])\n",
    "    \n",
    "    number_of_samples = 1\n",
    "    while sd_rec['next'] != '':\n",
    "        number_of_samples += 1\n",
    "        sd_rec = nusc.get('sample_data', sd_rec['next'])\n",
    "        \n",
    "    oxts_data = np.zeros((number_of_samples, OXTS_LINE_LEN))\n",
    "    sd_rec = nusc.get('sample_data', sample_rec['data']['LIDAR_TOP'])\n",
    "\n",
    "    for i in range(number_of_samples):\n",
    "        if i != 0:\n",
    "            sd_rec = nusc.get('sample_data', sd_rec['next'])\n",
    "        ego_pose = nusc.get('ego_pose', sd_rec['token'])\n",
    "        oxts_data[i] = np.loadtxt(os.path.join(base_dir, ego_pose['token'] + '.txt'))\n",
    "\n",
    "    return oxts_data"
   ]
  },
  {
   "cell_type": "code",
   "execution_count": 4,
   "metadata": {},
   "outputs": [],
   "source": [
    "def lat_lon_to_mercator(lat, lon, scale):\n",
    "    \"\"\"\n",
    "    Converts lat/lon coordinates to mercator coordinates using Mercator scale.\n",
    "    \"\"\"\n",
    "    ER = 6378137\n",
    "    mx = scale * lon * math.pi * ER / 180\n",
    "    my = scale * ER * math.log(math.tan((90 + lat) * math.pi / 360))\n",
    "    return mx, my\n",
    "\n",
    "\n",
    "def lat_to_scale(lat):\n",
    "    \"\"\"\n",
    "    Compute Mercator scale from latitude\n",
    "    \"\"\"\n",
    "    return math.cos(lat * math.pi / 180.0)"
   ]
  },
  {
   "cell_type": "code",
   "execution_count": 5,
   "metadata": {},
   "outputs": [],
   "source": [
    "def gps_imu_to_pose(gps_imu, scale):\n",
    "    \"\"\"\n",
    "    Compute pose from GPS/IMU data\n",
    "    \"\"\"\n",
    "    t = np.zeros(3)\n",
    "    t[0], t[1] = lat_lon_to_mercator(gps_imu[0], gps_imu[1], scale)\n",
    "    t[2] = gps_imu[2]  # altitude\n",
    "    rx = gps_imu[3]  # roll\n",
    "    ry = gps_imu[4]  # pitch\n",
    "    rz = gps_imu[5]  # heading\n",
    "    Rx = np.array([[1, 0, 0], [0, math.cos(rx), -math.sin(rx)], [0, math.sin(rx), math.cos(rx)]])\n",
    "    Ry = np.array([[math.cos(ry), 0, math.sin(ry)], [0, 1, 0], [-math.sin(ry), 0, math.cos(ry)]])\n",
    "    Rz = np.array([[math.cos(rz), -math.sin(rz), 0], [math.sin(rz), math.cos(rz), 0], [0, 0, 1]])\n",
    "    R = Rz.dot(Ry).dot(Rx)\n",
    "    T = np.identity(4)\n",
    "    T[:3, :3] = R\n",
    "    T[:3, 3] = t\n",
    "    return T"
   ]
  },
  {
   "cell_type": "code",
   "execution_count": 6,
   "metadata": {},
   "outputs": [],
   "source": [
    "def oxts_to_pose(oxts_info):\n",
    "    \"\"\"\n",
    "    Converts a list of oxts measurements into metric poses,\n",
    "    starting at (0,0,0) meters, OXTS coordinates are defined as\n",
    "    x = forward, y = right, z = down (see OXTS RT3000 user manual)\n",
    "    afterwards, pose{i} contains the transformation which takes a\n",
    "    3D point in the i'th frame and projects it into the oxts\n",
    "    coordinates of the first frame.\n",
    "    \"\"\"\n",
    "    # Compute scale from first lat value\n",
    "    scale = lat_to_scale(oxts_info[0, 0])\n",
    "    Tr_0_inv = None\n",
    "    poses = np.zeros((len(oxts_info), 12))\n",
    "    for i, line in enumerate(oxts_info):\n",
    "        T = gps_imu_to_pose(line, scale)\n",
    "        # Normalize translation and rotation (start at 0/0/0)\n",
    "        if Tr_0_inv is None:\n",
    "            Tr_0_inv = np.linalg.inv(T)\n",
    "\n",
    "        pose = Tr_0_inv.dot(T)\n",
    "        poses[i] = pose[:3, :].reshape(12)\n",
    "    return poses"
   ]
  },
  {
   "cell_type": "code",
   "execution_count": 22,
   "metadata": {},
   "outputs": [],
   "source": [
    "for scene in nusc.scene:\n",
    "    scene_name = scene['name']\n",
    "    scene_token = scene['token']\n",
    "    oxts_data = load_oxts_data(scene_token, f'{base_dir}{scene_name}/')\n",
    "    poses = oxts_to_pose(oxts_data)\n",
    "    np.savetxt(f'{base_dir}poses/{scene_name}.txt', poses)\n"
   ]
  }
 ],
 "metadata": {
  "kernelspec": {
   "display_name": "Python 3",
   "language": "python",
   "name": "python3"
  },
  "language_info": {
   "codemirror_mode": {
    "name": "ipython",
    "version": 3
   },
   "file_extension": ".py",
   "mimetype": "text/x-python",
   "name": "python",
   "nbconvert_exporter": "python",
   "pygments_lexer": "ipython3",
   "version": "3.8.10"
  },
  "orig_nbformat": 4
 },
 "nbformat": 4,
 "nbformat_minor": 2
}
