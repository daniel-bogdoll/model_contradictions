{
 "cells": [
  {
   "cell_type": "code",
   "execution_count": 3,
   "metadata": {},
   "outputs": [],
   "source": [
    "import argparse\n",
    "import json\n",
    "import math\n",
    "import os\n",
    "from typing import List, Tuple, Dict\n",
    "\n",
    "from tqdm import tqdm\n",
    "\n",
    "from nuscenes.nuscenes import NuScenes\n",
    "\n",
    "\n",
    "EARTH_RADIUS_METERS = 6.378137e6\n",
    "REFERENCE_COORDINATES = {\n",
    "    \"boston-seaport\": [42.336849169438615, -71.05785369873047],\n",
    "    \"singapore-onenorth\": [1.2882100868743724, 103.78475189208984],\n",
    "    \"singapore-hollandvillage\": [1.2993652317780957, 103.78217697143555],\n",
    "    \"singapore-queenstown\": [1.2782562240223188, 103.76741409301758],\n",
    "}\n",
    "\n",
    "dataroot = '/disk/ml/datasets/nuScenes/'\n",
    "\n",
    "json_tokens = '/disk/ml/own_datasets/CODA/nuscenes_indices.json'\n",
    "\n",
    "poses_folder = '/disk/vanishing_data/ju878/nusc_kitti_test/train/oxts/'\n",
    "\n",
    "if not os.path.exists(poses_folder):\n",
    "        os.makedirs(poses_folder)"
   ]
  },
  {
   "cell_type": "code",
   "execution_count": null,
   "metadata": {},
   "outputs": [],
   "source": [
    "nusc = NuScenes(dataroot=dataroot, version='v1.0-trainval', verbose=False)"
   ]
  },
  {
   "cell_type": "code",
   "execution_count": 3,
   "metadata": {},
   "outputs": [],
   "source": [
    "def get_poses(nusc: NuScenes, scene_token: str) -> List[dict]:\n",
    "    \"\"\"\n",
    "    Return all ego poses for the current scene.\n",
    "    :param nusc: The NuScenes instance to load the ego poses from.\n",
    "    :param scene_token: The token of the scene.\n",
    "    :return: A list of the ego pose dicts.\n",
    "    \"\"\"\n",
    "    pose_list = []\n",
    "    scene_rec = nusc.get('scene', scene_token)\n",
    "    sample_rec = nusc.get('sample', scene_rec['first_sample_token'])\n",
    "    sd_rec = nusc.get('sample_data', sample_rec['data']['LIDAR_TOP'])\n",
    "    \n",
    "    \n",
    "    ego_pose = nusc.get('ego_pose', sd_rec['token'])\n",
    "    #if sd_rec['token'] in lidar_top_tokens:\n",
    "    pose_list.append(ego_pose)\n",
    "\n",
    "    while sd_rec['next'] != '':\n",
    "        sd_rec = nusc.get('sample_data', sd_rec['next'])\n",
    "        ego_pose = nusc.get('ego_pose', sd_rec['token'])\n",
    "        #if sd_rec['token'] in lidar_top_tokens:\n",
    "        pose_list.append(ego_pose)\n",
    "\n",
    "    return pose_list"
   ]
  },
  {
   "cell_type": "code",
   "execution_count": 4,
   "metadata": {},
   "outputs": [],
   "source": [
    "def get_coordinate(ref_lat: float, ref_lon: float, bearing: float, dist: float) -> Tuple[float, float]:\n",
    "    \"\"\"\n",
    "    Using a reference coordinate, extract the coordinates of another point in space given its distance and bearing\n",
    "    to the reference coordinate. For reference, please see: https://www.movable-type.co.uk/scripts/latlong.html.\n",
    "    :param ref_lat: Latitude of the reference coordinate in degrees, ie: 42.3368.\n",
    "    :param ref_lon: Longitude of the reference coordinate in degrees, ie: 71.0578.\n",
    "    :param bearing: The clockwise angle in radians between target point, reference point and the axis pointing north.\n",
    "    :param dist: The distance in meters from the reference point to the target point.\n",
    "    :return: A tuple of lat and lon.\n",
    "    \"\"\"\n",
    "    lat, lon = math.radians(ref_lat), math.radians(ref_lon)\n",
    "    angular_distance = dist / EARTH_RADIUS_METERS\n",
    "    \n",
    "    target_lat = math.asin(\n",
    "        math.sin(lat) * math.cos(angular_distance) + \n",
    "        math.cos(lat) * math.sin(angular_distance) * math.cos(bearing)\n",
    "    )\n",
    "    target_lon = lon + math.atan2(\n",
    "        math.sin(bearing) * math.sin(angular_distance) * math.cos(lat),\n",
    "        math.cos(angular_distance) - math.sin(lat) * math.sin(target_lat)\n",
    "    )\n",
    "    return math.degrees(target_lat), math.degrees(target_lon)"
   ]
  },
  {
   "cell_type": "code",
   "execution_count": 7,
   "metadata": {},
   "outputs": [],
   "source": [
    "def derive_latlon(location: str, poses: List[Dict[str, float]], scene_name) -> List[Dict[str, float]]:\n",
    "    \"\"\"\n",
    "    For each pose value, extract its respective lat/lon coordinate and timestamp.\n",
    "    \n",
    "    This makes the following two assumptions in order to work:\n",
    "        1. The reference coordinate for each map is in the south-western corner.\n",
    "        2. The origin of the global poses is also in the south-western corner (and identical to 1).\n",
    "\n",
    "    :param location: The name of the map the poses correspond to, ie: 'boston-seaport'.\n",
    "    :param poses: All nuScenes egopose dictionaries of a scene.\n",
    "    :return: A list of dicts (lat/lon coordinates and timestamps) for each pose.\n",
    "    \"\"\"\n",
    "    assert location in REFERENCE_COORDINATES.keys(), \\\n",
    "        f'Error: The given location: {location}, has no available reference.'\n",
    "    \n",
    "    coordinates = []\n",
    "    reference_lat, reference_lon = REFERENCE_COORDINATES[location]\n",
    "    for p in poses:\n",
    "        ts = p['timestamp']\n",
    "        pose_token = p['token']\n",
    "        #file_name = 'error'\n",
    "        #for index, lidar_top_token in enumerate(lidar_top_tokens):\n",
    "        #    ego_pose = nusc.get('ego_pose', lidar_top_tokens[index])\n",
    "        #    if pose_token == ego_pose['token']:\n",
    "        #        file_name = file_names[index]\n",
    "        x, y, z = p['translation']\n",
    "        bearing = math.atan(x / y)\n",
    "        distance = math.sqrt(x**2 + y**2)\n",
    "        lat, lon = get_coordinate(reference_lat, reference_lon, bearing, distance)\n",
    "        \n",
    "        w, r1, r2, r3 = p['rotation']\n",
    "        roll = math.atan2(2 * (w * r1 + r2 * r3), 1 - 2 * (math.pow(r1, 2) + math.pow(r2, 2)))\n",
    "        pitch = math.asin(2 * (w * r2 - r3 * r1))\n",
    "        yaw = math.atan2(2 * (w * r3 + r1 * r2), 1 - 2 * (math.pow(r2, 2) + math.pow(r3, 2)))\n",
    "        #coordinates.append(lat + ' ' + lon + ' ' + z + ' ' + roll + ' ' + pitch + ' ' + yaw)\n",
    "        if not os.path.exists(poses_folder + '/' + scene_name +'/'):\n",
    "            os.makedirs(poses_folder + '/' + scene_name +'/')\n",
    "        with open(poses_folder + '/' + scene_name +'/'+ pose_token + '.txt', 'w') as f:\n",
    "            f.write(f'{lat} {lon} {z} {roll} {pitch} {yaw}')\n",
    "    #return coordinates"
   ]
  },
  {
   "cell_type": "code",
   "execution_count": 8,
   "metadata": {},
   "outputs": [
    {
     "name": "stdout",
     "output_type": "stream",
     "text": [
      "Extracting coordinates...\n"
     ]
    },
    {
     "ename": "",
     "evalue": "",
     "output_type": "error",
     "traceback": [
      "\u001b[1;31mThe Kernel crashed while executing code in the the current cell or a previous cell. Please review the code in the cell(s) to identify a possible cause of the failure. Click <a href='https://aka.ms/vscodeJupyterKernelCrash'>here</a> for more info. View Jupyter <a href='command:jupyter.viewOutput'>log</a> for further details."
     ]
    }
   ],
   "source": [
    "\n",
    "\n",
    "#with open(json_tokens, 'r') as f:\n",
    "#    nuscenes_tokens = json.load(f)\n",
    "#       \n",
    "#file_names = []\n",
    "#lidar_top_tokens = []\n",
    "#\n",
    "#for token in nuscenes_tokens:\n",
    "#    file_names.append(token.split('.')[0])\n",
    "#    my_sample = nusc.get('sample', nuscenes_tokens[token])\n",
    "#    lidar_top_data = nusc.get('sample_data', my_sample['data']['LIDAR_TOP'])\n",
    "#    lidar_top_tokens.append(lidar_top_data['token'])\n",
    "\n",
    "coordinates_per_location = {}\n",
    "print(f'Extracting coordinates...')\n",
    "for scene in nusc.scene:\n",
    "    # Retrieve nuScenes poses.\n",
    "    scene_name = scene['name']\n",
    "    scene_token = scene['token']\n",
    "    location = nusc.get('log', scene['log_token'])['location']  # Needed to extract the reference coordinate.\n",
    "    poses = get_poses(nusc, scene_token)  # For each pose, we will extract the corresponding coordinate.\n",
    "    \n",
    "    # Compute and store coordinates.\n",
    "    derive_latlon(location, poses, scene_name)"
   ]
  }
 ],
 "metadata": {
  "kernelspec": {
   "display_name": "Python 3",
   "language": "python",
   "name": "python3"
  },
  "language_info": {
   "codemirror_mode": {
    "name": "ipython",
    "version": 3
   },
   "file_extension": ".py",
   "mimetype": "text/x-python",
   "name": "python",
   "nbconvert_exporter": "python",
   "pygments_lexer": "ipython3",
   "version": "3.8.10"
  },
  "orig_nbformat": 4
 },
 "nbformat": 4,
 "nbformat_minor": 2
}
