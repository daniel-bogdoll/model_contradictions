{
 "cells": [
  {
   "cell_type": "code",
   "execution_count": null,
   "metadata": {},
   "outputs": [],
   "source": [
    "import torch\n",
    "state_dict = torch.load('SalsaNext_valid_best', map_location=\"cpu\")\n",
    "torch.save(state_dict, 'SalsaNext_valid_best', _use_new_zipfile_serialization=False)"
   ]
  },
  {
   "attachments": {},
   "cell_type": "markdown",
   "metadata": {},
   "source": [
    "Sup Semantic\n",
    "\n",
    "kitti_odometry_data_cfg.yaml"
   ]
  },
  {
   "cell_type": "code",
   "execution_count": null,
   "metadata": {},
   "outputs": [],
   "source": [
    "conda activate salsanext\n",
    "cd model_contradictions/supervised_unsupervised_anomaly/sup_semantic/SalsaNext/\n",
    "./eval.sh -d /disk/vanishing_data/ju878/CODA_for_Finn_sequences/sequences -p /disk/vanishing_data/ju878/log_finn -m /disk/vanishing_data/ju878/pretrained_models/pretrained_SalsaNext_semantic/ -c 30 -s valid -e False\n",
    "cd ../.."
   ]
  },
  {
   "cell_type": "code",
   "execution_count": null,
   "metadata": {},
   "outputs": [],
   "source": [
    "python visualize.py -d /disk/vanishing_data/ju878/CODA_for_Finn_sequences/sequences/ -p /disk/vanishing_data/ju878/log_finn/SalsaNext_semantics/ -s valid -c /disk/vanishing_data/ju878/pretrained_models/pretrained_SalsaNext_semantic/kitti_odometry_data_cfg.yaml"
   ]
  },
  {
   "attachments": {},
   "cell_type": "markdown",
   "metadata": {},
   "source": [
    "Sup Motion\n",
    "\n",
    "config/data_preparing.yaml\n",
    "\n",
    "kitti_odometry_data_cfg_mos.yaml"
   ]
  },
  {
   "cell_type": "code",
   "execution_count": null,
   "metadata": {},
   "outputs": [],
   "source": [
    "cd sup_mos/LiDAR-MOS/\n",
    "python utils/gen_residual_images_Kitti_odometry.py\n",
    "cd  mos_SalsaNext/\n",
    "./eval.sh -d /disk/vanishing_data/ju878/CODA_for_Finn_sequences/sequences -p /disk/vanishing_data/ju878/log_finn -m /disk/vanishing_data/ju878/pretrained_models/pretrained_SalsaNext_mos/ -c 30 -s valid\n",
    "cd .."
   ]
  },
  {
   "attachments": {},
   "cell_type": "markdown",
   "metadata": {},
   "source": [
    "Combine Semantic and Motion\n",
    "\n",
    "config/combine_mos_semantics.yaml\n",
    "\n",
    "config/post-processing.yaml"
   ]
  },
  {
   "cell_type": "code",
   "execution_count": null,
   "metadata": {},
   "outputs": [],
   "source": [
    "python utils/combine_semantics.py\n",
    "cd ../..\n",
    "conda deactivate"
   ]
  },
  {
   "attachments": {},
   "cell_type": "markdown",
   "metadata": {},
   "source": [
    "Sup Ground Seg\n"
   ]
  },
  {
   "cell_type": "code",
   "execution_count": null,
   "metadata": {},
   "outputs": [],
   "source": [
    "cd sup_ground_seg/GndNet/\n",
    "python evaluate_SemanticKITTI.py --config ./config/config_kittiSem.yaml --resume ./trained_models/checkpoint.pth.tar --data_dir /disk/vanishing_data/ju878/CODA_for_Finn_sequences/sequences --logdir /disk/vanishing_data/ju878/log_finn\n",
    "cd ../.."
   ]
  },
  {
   "attachments": {},
   "cell_type": "markdown",
   "metadata": {},
   "source": [
    "Self SceneFlow\n",
    "\n",
    "configs/test/flowstep3d_self_KITTI_odometry.yaml"
   ]
  },
  {
   "cell_type": "code",
   "execution_count": null,
   "metadata": {},
   "outputs": [],
   "source": [
    "conda deactivate\n",
    "source /disk/no_backup/ju878/env/venv/bin/activate\n",
    "cd self_scene_flow/flowstep3d/\n",
    "bash scripts/download_models.sh\n",
    "\n",
    "python run.py -c configs/test/flowstep3d_self_KITTI_odometry.yaml\n",
    "cd ../..\n",
    "deactivate"
   ]
  },
  {
   "attachments": {},
   "cell_type": "markdown",
   "metadata": {},
   "source": [
    "Self Odometry\n",
    "\n",
    "configs/config_datasets.yaml"
   ]
  },
  {
   "cell_type": "code",
   "execution_count": null,
   "metadata": {},
   "outputs": [],
   "source": [
    "conda activate DeLORA-py3.9\n",
    "cd self_odometry/DeLORA/\n",
    "python bin/preprocess_data.py\n",
    "\n",
    "python bin/run_testing.py --checkpoint /disk/no_backup/ju878/model_contradictions/supervised_unsupervised_anomaly/self_odometry/DeLORA//checkpoints/kitti_example.pth --testing_run_name 2\n",
    "conda deactivate\n",
    "cd ../.."
   ]
  },
  {
   "attachments": {},
   "cell_type": "markdown",
   "metadata": {},
   "source": [
    "Self-Supervised Motion Labels\n",
    "\n",
    "copy \"transformations_kitti_0000.npy\" from self_odometry/DeLORA/mlruns/1/<hash>/artifacts\n",
    "\n",
    "anomaly_detection/config/config_paths.yaml"
   ]
  },
  {
   "cell_type": "code",
   "execution_count": null,
   "metadata": {},
   "outputs": [],
   "source": [
    "python anomaly_detection/self_motion_labels/self_motion_labels_2stage.py"
   ]
  },
  {
   "attachments": {},
   "cell_type": "markdown",
   "metadata": {},
   "source": [
    "Compare\n",
    "\n",
    "anomaly_detection/config/combine_mos_semantics.yaml"
   ]
  },
  {
   "cell_type": "code",
   "execution_count": null,
   "metadata": {},
   "outputs": [],
   "source": [
    "python anomaly_detection/compare_and_cluster/compare_labels_and_cluster.py\n",
    "python anomaly_detection/compare_and_cluster/map_anomalies_on_image.py"
   ]
  }
 ],
 "metadata": {
  "kernelspec": {
   "display_name": "Python 3",
   "language": "python",
   "name": "python3"
  },
  "language_info": {
   "codemirror_mode": {
    "name": "ipython",
    "version": 3
   },
   "file_extension": ".py",
   "mimetype": "text/x-python",
   "name": "python",
   "nbconvert_exporter": "python",
   "pygments_lexer": "ipython3",
   "version": "3.8.10"
  },
  "orig_nbformat": 4
 },
 "nbformat": 4,
 "nbformat_minor": 2
}
