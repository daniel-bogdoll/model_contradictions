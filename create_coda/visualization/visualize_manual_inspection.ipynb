{
 "cells": [
  {
   "cell_type": "markdown",
   "metadata": {},
   "source": [
    "### Visualize the results of the manual inspection"
   ]
  },
  {
   "cell_type": "code",
   "execution_count": 5,
   "metadata": {},
   "outputs": [],
   "source": [
    "import matplotlib.pyplot as plt\n",
    "import json\n",
    "import os"
   ]
  },
  {
   "cell_type": "markdown",
   "metadata": {},
   "source": [
    "#### Set paths\n",
    "<div class=\"alert alert-block alert-warning\">\n",
    "<b>ToDo:</b> Set \"coda_root\" to the root of your CODA directory\n",
    "</div>"
   ]
  },
  {
   "cell_type": "code",
   "execution_count": null,
   "metadata": {},
   "outputs": [],
   "source": [
    "coda_root = f'/disk/ml/own_datasets/CODA'"
   ]
  },
  {
   "cell_type": "code",
   "execution_count": null,
   "metadata": {},
   "outputs": [],
   "source": [
    "model_root = os.path.realpath('../../../model_contradictions/')\n",
    "create_coda_root = os.path.join(model_root, 'create_coda')\n",
    "annotation_validation = os.path.join(create_coda_root, 'annotation_validation')\n",
    "\n",
    "graphics_root = os.path.join(model_root, 'graphics')\n",
    "\n",
    "json_cornercases = os.path.join(coda_root, 'corner_case.json')"
   ]
  },
  {
   "cell_type": "code",
   "execution_count": 13,
   "metadata": {},
   "outputs": [],
   "source": [
    "with open(annotation_validation, 'r') as f:\n",
    "    anno_valid = f.read().splitlines()\n",
    "    \n",
    "with open(json_cornercases, 'r') as f:\n",
    "    data_cornercases = json.load(f)\n",
    "    \n",
    "categories = data_cornercases['categories']\n",
    "annotations = data_cornercases['annotations']"
   ]
  },
  {
   "cell_type": "markdown",
   "metadata": {},
   "source": [
    "#### Create Data"
   ]
  },
  {
   "cell_type": "markdown",
   "metadata": {},
   "source": [
    "Sum up all results for each dataset"
   ]
  },
  {
   "cell_type": "code",
   "execution_count": 7,
   "metadata": {},
   "outputs": [],
   "source": [
    "counts_total = [0,0,0,0,0,0,0,0,0]\n",
    "counts_once = [0,0,0,0,0,0,0,0,0]\n",
    "counts_kitti = [0,0,0,0,0,0,0,0,0]\n",
    "counts_nuscenes = [0,0,0,0,0,0,0,0,0]\n",
    "for index_c, count in enumerate(counts_total):\n",
    "    for index_a, anno in enumerate(anno_valid):\n",
    "            \n",
    "        if f'{index_c + 1}' == anno:\n",
    "            if index_a <= 4413:\n",
    "                counts_once[index_c] += 1\n",
    "            elif index_a >= 4813:\n",
    "                counts_nuscenes[index_c] += 1\n",
    "            else:\n",
    "                counts_kitti[index_c] += 1\n",
    "            counts_total[index_c] += 1\n",
    "\n",
    "counts = [counts_total, counts_once, counts_kitti, counts_nuscenes]"
   ]
  },
  {
   "cell_type": "markdown",
   "metadata": {},
   "source": [
    "Sum up all results for each supercategory"
   ]
  },
  {
   "cell_type": "code",
   "execution_count": 8,
   "metadata": {},
   "outputs": [],
   "source": [
    "supercategories = ['pedestrian', 'cyclist', 'vehicle', 'animal', 'traffic_facility', 'obstruction', 'misc']\n",
    "counts_supercategorie = [[0,0,0,0,0,0,0,0,0],\n",
    "                         [0,0,0,0,0,0,0,0,0],\n",
    "                         [0,0,0,0,0,0,0,0,0],\n",
    "                         [0,0,0,0,0,0,0,0,0],\n",
    "                         [0,0,0,0,0,0,0,0,0],\n",
    "                         [0,0,0,0,0,0,0,0,0],\n",
    "                         [0,0,0,0,0,0,0,0,0]]\n",
    "for index_c, count in enumerate(counts_total):\n",
    "    for index_a, anno in enumerate(anno_valid):\n",
    "        if f'{index_c + 1}' == anno:\n",
    "            for annotation in annotations:\n",
    "                if index_a == annotation['id']:\n",
    "                    for categorie in categories:\n",
    "                        if annotation['category_id'] == categorie['id']:\n",
    "                            for index_sc, sc in enumerate(supercategories):\n",
    "                                if categorie['supercategory'] == sc:\n",
    "                                    counts_supercategorie[index_sc][index_c] += 1"
   ]
  },
  {
   "cell_type": "markdown",
   "metadata": {},
   "source": [
    "Define titles and labels"
   ]
  },
  {
   "cell_type": "code",
   "execution_count": 9,
   "metadata": {},
   "outputs": [],
   "source": [
    "anno_description = [\n",
    "    'DB-Scan',\n",
    "    'Meanshift',\n",
    "    'both',\n",
    "    'mix',\n",
    "    'DB-Scan wrong cluster',\n",
    "    'wrong clustering',\n",
    "    'wrong annotation',\n",
    "    'Meanshift wrong Cluster',\n",
    "    'clustering too fine',\n",
    "]\n",
    "\n",
    "titles = ['All Anomalies', 'ONCE Anomalies', 'KITTI Anomalies', 'nuScenes Anomalies']\n",
    "labels = [anno_description, anno_description, anno_description, anno_description]"
   ]
  },
  {
   "cell_type": "markdown",
   "metadata": {},
   "source": [
    "Plot graphs for the datasets and supercategories"
   ]
  },
  {
   "cell_type": "code",
   "execution_count": 10,
   "metadata": {},
   "outputs": [],
   "source": [
    "def my_autopct(pct):\n",
    "    return ('%.1f%%' % pct) if pct > 3 else ''\n",
    "\n",
    "def plotgraph_datasets(counts, labels, titles):\n",
    "    \n",
    "    fig = plt.figure(figsize=(12, 7), tight_layout=False)\n",
    "    ax1 = fig.add_subplot(121)\n",
    "    ax1.pie(counts[0], autopct=my_autopct)\n",
    "    ax1.legend(labels, bbox_to_anchor=(1.4, 0.8, 0.0, 0.2), loc='right', mode=None, ncol=1, borderaxespad=0)\n",
    "    ax1.set_title(f'{titles[0]} - {sum(counts[0])}')\n",
    "    \n",
    "    ax2 = fig.add_subplot(322)\n",
    "    ax2.pie(counts[1], autopct=my_autopct)\n",
    "    ax2.set_title(f'{titles[1]} - {sum(counts[1])}')\n",
    "                  \n",
    "    ax3 = fig.add_subplot(324)\n",
    "    ax3.pie(counts[2], autopct=my_autopct)\n",
    "    ax3.set_title(f'{titles[2]} - {sum(counts[2])}')\n",
    "    \n",
    "    ax4 = fig.add_subplot(326)\n",
    "    ax4.pie(counts[3], autopct=my_autopct)\n",
    "    ax4.set_title(f'{titles[3]} - {sum(counts[3])}')\n",
    "    fig.savefig(os.path.join(graphics_root, f'manual_evaluation_datasets.svg'), format='svg', dpi=1200)\n",
    "    plt.show()\n",
    "    plt.close()\n",
    "    \n",
    "def plotgraph_supercategories(counts, labels, titles):\n",
    "    \n",
    "    fig = plt.figure(figsize=(12, 7), tight_layout=False)\n",
    "    ax1 = fig.add_subplot(241)\n",
    "    ax1.pie(counts[0], autopct=my_autopct)\n",
    "    ax1.legend(labels, bbox_to_anchor=(4.6, -0.95, 0.0, 0.2), loc='right', mode=None, ncol=1, borderaxespad=0)\n",
    "    ax1.set_title(f'{titles[0]} - {sum(counts[0])}')\n",
    "    \n",
    "    ax2 = fig.add_subplot(242)\n",
    "    ax2.pie(counts[1], autopct=my_autopct)\n",
    "    ax2.set_title(f'{titles[1]} - {sum(counts[1])}')\n",
    "                  \n",
    "    ax3 = fig.add_subplot(243)\n",
    "    ax3.pie(counts[2], autopct=my_autopct)\n",
    "    ax3.set_title(f'{titles[2]} - {sum(counts[2])}')\n",
    "    \n",
    "    ax4 = fig.add_subplot(244)\n",
    "    ax4.pie(counts[3], autopct=my_autopct)\n",
    "    ax4.set_title(f'{titles[3]} - {sum(counts[3])}')\n",
    "    \n",
    "    ax5 = fig.add_subplot(245)\n",
    "    ax5.pie(counts[4], autopct=my_autopct)\n",
    "    ax5.set_title(f'{titles[4]} - {sum(counts[4])}')\n",
    "                  \n",
    "    ax6 = fig.add_subplot(246)\n",
    "    ax6.pie(counts[5], autopct=my_autopct)\n",
    "    ax6.set_title(f'{titles[5]} - {sum(counts[5])}')\n",
    "    \n",
    "    ax7 = fig.add_subplot(247)\n",
    "    ax7.pie(counts[6], autopct=my_autopct)\n",
    "    ax7.set_title(f'{titles[6]} - {sum(counts[6])}')\n",
    "    \n",
    "    fig.savefig(os.path.join(graphics_root, f'manual_evaluation_supercategories.svg'), format='svg', dpi=1200)\n",
    "    plt.show()\n",
    "    plt.close()"
   ]
  },
  {
   "cell_type": "markdown",
   "metadata": {},
   "source": [
    "#### Create Manual Evaluation visualization"
   ]
  },
  {
   "cell_type": "code",
   "execution_count": null,
   "metadata": {},
   "outputs": [],
   "source": [
    "plotgraph_datasets(counts, anno_description, titles)\n",
    "\n",
    "plotgraph_supercategories(counts_supercategorie, anno_description, supercategories)"
   ]
  }
 ],
 "metadata": {
  "kernelspec": {
   "display_name": "Python 3",
   "language": "python",
   "name": "python3"
  },
  "language_info": {
   "codemirror_mode": {
    "name": "ipython",
    "version": 3
   },
   "file_extension": ".py",
   "mimetype": "text/x-python",
   "name": "python",
   "nbconvert_exporter": "python",
   "pygments_lexer": "ipython3",
   "version": "3.8.10"
  },
  "orig_nbformat": 4
 },
 "nbformat": 4,
 "nbformat_minor": 2
}
