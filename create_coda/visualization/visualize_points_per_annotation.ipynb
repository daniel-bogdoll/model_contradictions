{
 "cells": [
  {
   "cell_type": "markdown",
   "metadata": {},
   "source": [
    "### Visualize Points per Annotation (runtime: instant)"
   ]
  },
  {
   "cell_type": "code",
   "execution_count": 1,
   "metadata": {},
   "outputs": [],
   "source": [
    "import matplotlib.pyplot as plt\n",
    "import json\n",
    "import os\n",
    "import numpy as np\n",
    "from tqdm import tqdm"
   ]
  },
  {
   "cell_type": "markdown",
   "metadata": {},
   "source": [
    "#### Set paths\n",
    "<div class=\"alert alert-block alert-warning\">\n",
    "<h4>ToDo:</h4>\n",
    "<ol>\n",
    "    <li> Set \"coda_root\" to the root of your <b>CODA directory</b>\n",
    "    <li> Set \"log_finn_root\" to the root of your <b>inference directory</b>\n",
    "    <li> Set \"print_values\" to <b>True</b> to print the values, <b>False</b> to not print the values\n",
    "</ol>\n",
    "</div>"
   ]
  },
  {
   "cell_type": "code",
   "execution_count": 2,
   "metadata": {},
   "outputs": [],
   "source": [
    "coda_root = f'/disk/ml/own_datasets/CODA'\n",
    "log_finn_root = f'/disk/vanishing_data/ju878/log_finn/'\n",
    "\n",
    "print_values = False"
   ]
  },
  {
   "cell_type": "code",
   "execution_count": 3,
   "metadata": {},
   "outputs": [],
   "source": [
    "model_root = os.path.realpath('../../../model_contradictions/')\n",
    "create_coda_root = os.path.join(model_root, 'create_coda')\n",
    "\n",
    "graphics_root = os.path.join(model_root, 'graphics')\n",
    "\n",
    "lidar_annotation_folder = os.path.join(coda_root, 'lidar_clustering')\n",
    "lidar_labels = os.path.join(coda_root, 'lidar_labels_annotation')\n",
    "json_cornercases = os.path.join(coda_root, 'corner_case.json')\n",
    "annotation_validation = os.path.join(create_coda_root, 'annotation_validation')"
   ]
  },
  {
   "cell_type": "code",
   "execution_count": 4,
   "metadata": {},
   "outputs": [],
   "source": [
    "with open(annotation_validation, 'r') as f:\n",
    "    anno_valid = f.read().splitlines()\n",
    "    \n",
    "with open(json_cornercases, 'r') as f:\n",
    "    data_cornercases = json.load(f)\n",
    "    \n",
    "annotations = data_cornercases['annotations']"
   ]
  },
  {
   "cell_type": "markdown",
   "metadata": {},
   "source": [
    "#### Functions to translate manual inspection into labels"
   ]
  },
  {
   "cell_type": "markdown",
   "metadata": {},
   "source": [
    "Load lidar data with labels and manual inspection clustering"
   ]
  },
  {
   "cell_type": "code",
   "execution_count": 5,
   "metadata": {},
   "outputs": [],
   "source": [
    "def get_lidar_with_labels(annotation):\n",
    "    annotation_id = annotation['id']\n",
    "    annotation_path = os.path.join(lidar_annotation_folder, str(annotation_id) + '.bin')\n",
    "    clustering = anno_valid[annotation_id - 1]\n",
    "    \n",
    "    points = np.fromfile(annotation_path, dtype=np.float32).reshape((-1, 7))\n",
    "     \n",
    "    return points, clustering"
   ]
  },
  {
   "cell_type": "markdown",
   "metadata": {},
   "source": [
    "Set labels according to manual inspection"
   ]
  },
  {
   "cell_type": "code",
   "execution_count": 6,
   "metadata": {},
   "outputs": [],
   "source": [
    "def set_labels(points, clustering):\n",
    "    labels = np.ones((points.shape[0], 1))\n",
    "    if clustering == 1:\n",
    "        # set dbscan\n",
    "        labels[:, 0] = points[:, 4]\n",
    "    elif clustering == 2:\n",
    "        # set mean shift\n",
    "        labels[:, 0] = points[:, 6]\n",
    "    elif clustering == 3:\n",
    "        # set dbscan\n",
    "        labels[:, 0] = points[:, 4]\n",
    "    elif clustering == 4:\n",
    "        # set combined dbscan and mean shift\n",
    "        for index, point in enumerate(points):\n",
    "            if point[4] == 1 or point[6] == 1:\n",
    "                labels[index, 0] = 1\n",
    "            else:\n",
    "                labels[index, 0] = -1\n",
    "    elif clustering == 5:\n",
    "        # set negated dbscan\n",
    "        labels[:, 0] = -points[:, 4]\n",
    "    elif clustering == 6:\n",
    "        # keep all points as 1\n",
    "        labels = labels\n",
    "    elif clustering == 7:\n",
    "        # keep all points as 1\n",
    "        labels = labels\n",
    "    elif clustering == 8:\n",
    "        # set negated mean shift\n",
    "        labels[:, 0] = -points[:, 6]\n",
    "    elif clustering == 9:\n",
    "        # keep all points as 1\n",
    "        labels = labels\n",
    "    return np.hstack([points[:, :3], labels])"
   ]
  },
  {
   "cell_type": "markdown",
   "metadata": {},
   "source": [
    "Print Points per Annotation"
   ]
  },
  {
   "cell_type": "code",
   "execution_count": 7,
   "metadata": {},
   "outputs": [],
   "source": [
    "def print_output(once_no_anno_sum, kitti_no_anno_sum, nuscenes_no_anno_sum, once_anno_sum, kitti_anno_sum, nuscenes_anno_sum):\n",
    "    print('Average points, no Anomaly:')\n",
    "    print('ONCE: ' + (str(sum(once_no_anno_sum) / len(once_no_anno_sum))))\n",
    "    print('KITTI: ' + (str(sum(kitti_no_anno_sum) / len(kitti_no_anno_sum))))\n",
    "    print('nuScenes: ' + (str(sum(nuscenes_no_anno_sum) / len(nuscenes_no_anno_sum))) + '\\n')\n",
    "\n",
    "    print('Average points, Anomaly:')\n",
    "    print('ONCE: ' + (str(sum(once_anno_sum) / len(once_anno_sum))))\n",
    "    print('KITTI: ' + (str(sum(kitti_anno_sum) / len(kitti_anno_sum))))\n",
    "    print('nuScenes: ' + (str(sum(nuscenes_anno_sum) / len(nuscenes_anno_sum))) + '\\n')\n",
    "\n",
    "    print('Median points, Anomaly:')\n",
    "    print('ONCE: ' + (str(once_anno_sum[int(len(once_anno_sum)/2)])))\n",
    "    print('KITTI: ' + (str(kitti_anno_sum[int(len(kitti_anno_sum)/2)])))\n",
    "    print('nuScenes: ' + (str(nuscenes_anno_sum[int(len(nuscenes_anno_sum)/2)])) + '\\n')\n",
    "\n",
    "    print('Ratio: Anomaly Points / Total Points:')\n",
    "    print('ONCE: ' + (str(sum(once_anno_sum) / (sum(once_anno_sum) + sum(once_no_anno_sum)))))\n",
    "    print('KITTI: ' + (str(sum(kitti_anno_sum) / (sum(kitti_anno_sum) + sum(kitti_no_anno_sum)))))\n",
    "    print('nuScenes: ' + (str(sum(nuscenes_anno_sum) / (sum(nuscenes_anno_sum) + sum(nuscenes_no_anno_sum)))) + '\\n')"
   ]
  },
  {
   "cell_type": "markdown",
   "metadata": {},
   "source": [
    "Plot Points per Annotation"
   ]
  },
  {
   "cell_type": "code",
   "execution_count": 8,
   "metadata": {},
   "outputs": [],
   "source": [
    "def plot_graph(once_anno_sum, kitti_anno_sum, nuscenes_anno_sum):\n",
    "    plt.boxplot([once_anno_sum, kitti_anno_sum, nuscenes_anno_sum], labels=['CODA-ONCE', 'CODA-KITTI', 'CODA-nuScenes'], showfliers=False, medianprops=dict(color='None'))\n",
    "\n",
    "    plt.hlines(np.mean(once_anno_sum), 0.85, 1.15, colors='r', linewidth=1, linestyle='--', label=f'Mean ONCE: {round(np.mean(once_anno_sum),2)}')\n",
    "    plt.hlines(np.median(once_anno_sum), 0.85, 1.15, colors='r', linewidth=1, linestyle='-', label=f'Median ONCE: {round(np.median(once_anno_sum),2)}')\n",
    "    plt.hlines(np.mean(kitti_anno_sum), 1.85, 2.15, colors='g', linewidth=1, linestyle='--', label=f'Mean KITTI: {round(np.mean(kitti_anno_sum),2)}')\n",
    "    plt.hlines(np.median(kitti_anno_sum), 1.85, 2.15, colors='g', linewidth=1, linestyle='-', label=f'Median KITTI: {round(np.median(kitti_anno_sum),2)}')\n",
    "    plt.hlines(np.mean(nuscenes_anno_sum), 2.85, 3.15, colors='b', linewidth=1, linestyle='--', label=f'Mean nuScenes: {round(np.mean(nuscenes_anno_sum),2)}')\n",
    "    plt.hlines(np.median(nuscenes_anno_sum), 2.85, 3.15, colors='b', linewidth=1, linestyle='-', label=f'Median nuScenes: {round(np.median(nuscenes_anno_sum),2)}')\n",
    "\n",
    "    plt.xlabel('Datasets')\n",
    "    plt.ylabel('Number of Points')\n",
    "    plt.yscale('log')\n",
    "    plt.ylim(bottom=1, top=2000)\n",
    "    plt.legend()\n",
    "\n",
    "    plt.savefig(os.path.join(graphics_root, 'point_distribution_annotations.svg'), format='svg', dpi=1200)\n",
    "    plt.show()\n",
    "    plt.close()"
   ]
  },
  {
   "cell_type": "markdown",
   "metadata": {},
   "source": [
    "#### Create Points per Annotation and print/plot"
   ]
  },
  {
   "cell_type": "code",
   "execution_count": 9,
   "metadata": {},
   "outputs": [
    {
     "name": "stderr",
     "output_type": "stream",
     "text": [
      "100%|██████████| 5937/5937 [00:03<00:00, 1790.82it/s]\n",
      "/usr/lib/python3/dist-packages/matplotlib/cbook/__init__.py:1426: VisibleDeprecationWarning: Creating an ndarray from ragged nested sequences (which is a list-or-tuple of lists-or-tuples-or ndarrays with different lengths or shapes) is deprecated. If you meant to do this, you must specify 'dtype=object' when creating the ndarray.\n",
      "  X = np.atleast_1d(X.T if isinstance(X, np.ndarray) else np.asarray(X))\n"
     ]
    },
    {
     "data": {
      "image/png": "[encoded data removed]",
      "text/plain": [
       "<Figure size 640x480 with 1 Axes>"
      ]
     },
     "metadata": {},
     "output_type": "display_data"
    }
   ],
   "source": [
    "once_anno_sum = []\n",
    "kitti_anno_sum = []\n",
    "nuscenes_anno_sum = []\n",
    "once_no_anno_sum = []\n",
    "kitti_no_anno_sum = []\n",
    "nuscenes_no_anno_sum = []\n",
    "\n",
    "for annotation in tqdm(annotations):\n",
    "        id = annotation['id']\n",
    "        annotations_in_lidar = np.array([-1,-1,-1,-1])\n",
    "        \n",
    "        if id > 4413 and id <= 4812:\n",
    "            points, clustering = get_lidar_with_labels(annotation)\n",
    "            points = set_labels(points, int(clustering))\n",
    "            kitti_anno_sum.append(len(np.where(points[:, 3] == 1)[0]))\n",
    "            kitti_no_anno_sum.append(len(np.where(points[:, 3] == -1)[0]))\n",
    "            \n",
    "        elif id > 4812:\n",
    "            points, clustering = get_lidar_with_labels(annotation)\n",
    "            points = set_labels(points, int(clustering))\n",
    "            nuscenes_anno_sum.append(len(np.where(points[:, 3] == 1)[0]))\n",
    "            nuscenes_no_anno_sum.append(len(np.where(points[:, 3] == -1)[0]))\n",
    "        elif id <= 4413:\n",
    "            points, clustering = get_lidar_with_labels(annotation)\n",
    "            points = set_labels(points, int(clustering))\n",
    "            once_anno_sum.append(len(np.where(points[:, 3] == 1)[0]))\n",
    "            once_no_anno_sum.append(len(np.where(points[:, 3] == -1)[0]))\n",
    "\n",
    "once_anno_sum = sorted(once_anno_sum, reverse=True)\n",
    "kitti_anno_sum = sorted(kitti_anno_sum, reverse=True)\n",
    "nuscenes_anno_sum = sorted(nuscenes_anno_sum, reverse=True)\n",
    "once_no_anno_sum = sorted(once_no_anno_sum, reverse=True)\n",
    "kitti_no_anno_sum = sorted(kitti_no_anno_sum, reverse=True)\n",
    "nuscenes_no_anno_sum = sorted(nuscenes_no_anno_sum, reverse=True)\n",
    "\n",
    "if print_values:\n",
    "    print_output(once_no_anno_sum, kitti_no_anno_sum, nuscenes_no_anno_sum, once_anno_sum, kitti_anno_sum, nuscenes_anno_sum)\n",
    "\n",
    "plot_graph(once_anno_sum, kitti_anno_sum, nuscenes_anno_sum)"
   ]
  }
 ],
 "metadata": {
  "kernelspec": {
   "display_name": "Python 3",
   "language": "python",
   "name": "python3"
  },
  "language_info": {
   "codemirror_mode": {
    "name": "ipython",
    "version": 3
   },
   "file_extension": ".py",
   "mimetype": "text/x-python",
   "name": "python",
   "nbconvert_exporter": "python",
   "pygments_lexer": "ipython3",
   "version": "3.8.10"
  },
  "orig_nbformat": 4
 },
 "nbformat": 4,
 "nbformat_minor": 2
}
