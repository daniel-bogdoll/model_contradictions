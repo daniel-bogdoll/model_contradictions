{
 "cells": [
  {
   "cell_type": "markdown",
   "metadata": {},
   "source": [
    "### Visualize the number of supercategories contained in each dataset"
   ]
  },
  {
   "cell_type": "code",
   "execution_count": 7,
   "metadata": {},
   "outputs": [],
   "source": [
    "import json\n",
    "import os\n",
    "import matplotlib.pyplot as plt\n",
    "import copy"
   ]
  },
  {
   "cell_type": "markdown",
   "metadata": {},
   "source": [
    "#### Set paths\n",
    "<div class=\"alert alert-block alert-warning\">\n",
    "<b>ToDo:</b> Set \"coda_root\" to the root of your CODA directory\n",
    "</div>"
   ]
  },
  {
   "cell_type": "code",
   "execution_count": null,
   "metadata": {},
   "outputs": [],
   "source": [
    "coda_root = f'/disk/ml/own_datasets/CODA/'"
   ]
  },
  {
   "cell_type": "code",
   "execution_count": 8,
   "metadata": {},
   "outputs": [],
   "source": [
    "datasets_root = f'/disk/ml/datasets/'\n",
    "\n",
    "model_root = os.path.realpath('../../../model_contradictions/')\n",
    "graphics_root = os.path.join(model_root, 'graphics')\n",
    "\n",
    "json_cornercases = os.path.join(coda_root, 'corner_case.json')\n",
    "json_annotation = os.path.join(coda_root, 'annotation_count.json')"
   ]
  },
  {
   "cell_type": "markdown",
   "metadata": {},
   "source": [
    "#### Create the numbers"
   ]
  },
  {
   "cell_type": "markdown",
   "metadata": {},
   "source": [
    "Load data for each dataset"
   ]
  },
  {
   "cell_type": "code",
   "execution_count": 9,
   "metadata": {},
   "outputs": [],
   "source": [
    "titles = ['CODA', 'CODA-ONCE', 'CODA-KITTI', 'CODA-nuScenes']\n",
    "\n",
    "with open(json_cornercases, 'r') as f:\n",
    "    data_cornercases = json.load(f)\n",
    "    \n",
    "categories = data_cornercases['categories']\n",
    "all_categories = copy.deepcopy(categories)\n",
    "once_categories = copy.deepcopy(categories)\n",
    "kitti_categories = copy.deepcopy(categories)\n",
    "nuscenes_categories = copy.deepcopy(categories)\n",
    "categorie_list = [all_categories, once_categories, kitti_categories, nuscenes_categories]\n",
    "\n",
    "annotations = data_cornercases['annotations']\n",
    "all_annotations = annotations\n",
    "once_annotations = annotations[:4413]\n",
    "kitti_annotations = annotations[4413:4813]\n",
    "nuscenes_annotations = annotations[4813:]\n",
    "annotation_list = [all_annotations, once_annotations, kitti_annotations, nuscenes_annotations]\n",
    "\n",
    "supercategories = [['pedestrian', 0], ['cyclist', 0], ['vehicle', 0], ['animal', 0], ['traffic_facility', 0], ['obstruction', 0], ['misc', 0]]\n",
    "all_supercategories = copy.deepcopy(supercategories)\n",
    "once_supercategories = copy.deepcopy(supercategories)\n",
    "kitti_supercategories = copy.deepcopy(supercategories)\n",
    "nuscenes_supercategories = copy.deepcopy(supercategories)\n",
    "supercategorie_list = [all_supercategories, once_supercategories, kitti_supercategories, nuscenes_supercategories]"
   ]
  },
  {
   "cell_type": "markdown",
   "metadata": {},
   "source": [
    "Add up each supercategorie for each dataset"
   ]
  },
  {
   "cell_type": "code",
   "execution_count": 10,
   "metadata": {},
   "outputs": [],
   "source": [
    "for index in range(4):\n",
    "    for i, supercategorie in enumerate(supercategorie_list[index]):\n",
    "        for categorie in categorie_list[index]:\n",
    "            if categorie['supercategory'] == supercategorie[0]:\n",
    "                for annotation in annotation_list[index]:\n",
    "                    if annotation['category_id'] == categorie['id']:\n",
    "                        supercategorie[1] = supercategorie[1] + 1"
   ]
  },
  {
   "cell_type": "code",
   "execution_count": 11,
   "metadata": {},
   "outputs": [],
   "source": [
    "def addlabels(x,y):\n",
    "    for i in range(len(x)):\n",
    "        plt.text(i,y[i]+10,y[i], ha = 'center')"
   ]
  },
  {
   "cell_type": "markdown",
   "metadata": {},
   "source": [
    "#### Plot the numbers for each dataset"
   ]
  },
  {
   "cell_type": "code",
   "execution_count": null,
   "metadata": {},
   "outputs": [],
   "source": [
    "for index in range(4):\n",
    "    # Create a list of object names and their counts\n",
    "    objects = [item[0] for item in supercategorie_list[index]]\n",
    "    counts = [item[1] for item in supercategorie_list[index]]\n",
    "\n",
    "    # Create a vertical bar plot\n",
    "    fig, ax = plt.subplots(figsize=(5, 3))\n",
    "    ax.bar(objects, counts)\n",
    "\n",
    "    # Set plot title and axis labels\n",
    "    addlabels(objects, counts)\n",
    "    ax.set_title(titles[index])\n",
    "    ax.set_xlabel('Supercategory')\n",
    "    ax.set_ylabel('Count')\n",
    "    plt.xticks(objects, objects, rotation='vertical')\n",
    "\n",
    "    fig.savefig(os.path.join(graphics_root, f'annotation_count_{titles[index]}.svg'), format='svg', dpi=1200)\n",
    "    # Display the plot\n",
    "    plt.show()\n",
    "    plt.close()"
   ]
  }
 ],
 "metadata": {
  "kernelspec": {
   "display_name": "Python 3",
   "language": "python",
   "name": "python3"
  },
  "language_info": {
   "codemirror_mode": {
    "name": "ipython",
    "version": 3
   },
   "file_extension": ".py",
   "mimetype": "text/x-python",
   "name": "python",
   "nbconvert_exporter": "python",
   "pygments_lexer": "ipython3",
   "version": "3.8.10"
  },
  "orig_nbformat": 4,
  "vscode": {
   "interpreter": {
    "hash": "e7370f93d1d0cde622a1f8e1c04877d8463912d04d973331ad4851f04de6915a"
   }
  }
 },
 "nbformat": 4,
 "nbformat_minor": 2
}
