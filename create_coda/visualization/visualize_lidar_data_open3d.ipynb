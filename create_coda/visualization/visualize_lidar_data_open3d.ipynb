{
 "cells": [
  {
   "cell_type": "markdown",
   "metadata": {},
   "source": [
    "### Visualize lidar point clouds with Open3D. \n",
    "<div class=\"alert alert-block alert-danger\">\n",
    "<b>Important:</b> Not usable via SSH, only works on the workstations.\n",
    "</div>\n"
   ]
  },
  {
   "cell_type": "code",
   "execution_count": 3,
   "metadata": {},
   "outputs": [],
   "source": [
    "import numpy as np\n",
    "from open3d import *"
   ]
  },
  {
   "cell_type": "code",
   "execution_count": 4,
   "metadata": {},
   "outputs": [],
   "source": [
    "def convert_bin_to_pcd(binFilePath):\n",
    "    '''\n",
    "    Converts bin files into pcd to visualize with open3d\n",
    "    '''\n",
    "    list_pcd = []\n",
    "    list_colors = [] \n",
    "    file = np.fromfile(binFilePath, dtype=np.float32).reshape((-1,4))\n",
    "    for f in file:\n",
    "        x = f[1]\n",
    "        y = -f[0]\n",
    "        z = f[2]\n",
    "        list_pcd.append([y, z, x])\n",
    "    \n",
    "    np_pcd = np.asarray(list_pcd)\n",
    "    pcd = open3d.geometry.PointCloud()\n",
    "    \n",
    "    pcd.points = open3d.utility.Vector3dVector(np_pcd)\n",
    "    return pcd"
   ]
  },
  {
   "cell_type": "markdown",
   "metadata": {},
   "source": [
    "<div class=\"alert alert-block alert-warning\">\n",
    "<b>Todo:</b> Set bin_file as the file you want to visualize\n",
    "</div>\n"
   ]
  },
  {
   "cell_type": "code",
   "execution_count": null,
   "metadata": {},
   "outputs": [],
   "source": [
    "# source\n",
    "bin_file = '/disk/vanishing_data/ju878/CODA_for_Finn_sequences/sequences/0001/velodyne/000001_1616005007200_12.bin'\n",
    "\n",
    "# convert\n",
    "pcd = convert_bin_to_pcd(bin_file)\n",
    "\n",
    "# show\n",
    "open3d.visualization.draw_geometries([pcd])"
   ]
  }
 ],
 "metadata": {
  "kernelspec": {
   "display_name": "Python 3",
   "language": "python",
   "name": "python3"
  },
  "language_info": {
   "codemirror_mode": {
    "name": "ipython",
    "version": 3
   },
   "file_extension": ".py",
   "mimetype": "text/x-python",
   "name": "python",
   "nbconvert_exporter": "python",
   "pygments_lexer": "ipython3",
   "version": "3.8.10"
  },
  "orig_nbformat": 4,
  "vscode": {
   "interpreter": {
    "hash": "767d51c1340bd893661ea55ea3124f6de3c7a262a8b4abca0554b478b1e2ff90"
   }
  }
 },
 "nbformat": 4,
 "nbformat_minor": 2
}
