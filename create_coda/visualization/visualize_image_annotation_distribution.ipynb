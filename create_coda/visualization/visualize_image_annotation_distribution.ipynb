{
 "cells": [
  {
   "cell_type": "markdown",
   "metadata": {},
   "source": [
    "### Visualize the distribution of images and annotations contributed by each dataset in CODA"
   ]
  },
  {
   "cell_type": "code",
   "execution_count": 1,
   "metadata": {},
   "outputs": [],
   "source": [
    "import matplotlib.pyplot as plt\n",
    "import os"
   ]
  },
  {
   "cell_type": "code",
   "execution_count": 2,
   "metadata": {},
   "outputs": [],
   "source": [
    "model_root = os.path.realpath('../../../model_contradictions/')\n",
    "graphics_root = os.path.join(model_root, 'graphics')"
   ]
  },
  {
   "cell_type": "markdown",
   "metadata": {},
   "source": [
    "#### Plot the distribution"
   ]
  },
  {
   "cell_type": "code",
   "execution_count": null,
   "metadata": {},
   "outputs": [],
   "source": [
    "fig, ax = plt.subplots(figsize=(5, 5))\n",
    "ax.pie([1057, 309, 134], labels=['ONCE', 'KITTI', 'nuScenes'], autopct='%1.1f%%')\n",
    "ax.set_title(f'Images in CODA (%)')\n",
    "plt.show()\n",
    "fig.savefig(os.path.join(graphics_root, 'images_in_CODA.svg'), format='svg', dpi=1200)\n",
    "plt.close()\n",
    "\n",
    "fig, ax = plt.subplots(figsize=(5, 5))\n",
    "ax.pie([4413, 399, 1124], labels=['ONCE', 'KITTI', 'nuScenes'], autopct='%1.1f%%')\n",
    "ax.set_title(f'Annotations in CODA (%)')\n",
    "\n",
    "fig.savefig(os.path.join(graphics_root, 'annotations_in_CODA.svg'), format='svg', dpi=1200)\n",
    "plt.show()\n",
    "plt.close()"
   ]
  }
 ],
 "metadata": {
  "kernelspec": {
   "display_name": "Python 3",
   "language": "python",
   "name": "python3"
  },
  "language_info": {
   "codemirror_mode": {
    "name": "ipython",
    "version": 3
   },
   "file_extension": ".py",
   "mimetype": "text/x-python",
   "name": "python",
   "nbconvert_exporter": "python",
   "pygments_lexer": "ipython3",
   "version": "3.8.10"
  },
  "orig_nbformat": 4
 },
 "nbformat": 4,
 "nbformat_minor": 2
}
